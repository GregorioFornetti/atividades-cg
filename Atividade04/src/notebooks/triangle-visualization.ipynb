{
 "cells": [
  {
   "cell_type": "markdown",
   "metadata": {},
   "source": [
    "# Implementação visualização do triângulo"
   ]
  },
  {
   "cell_type": "markdown",
   "metadata": {},
   "source": [
    "No caso, está sendo implementado duas versões\n",
    "\n",
    "1- **Inicial**: a implementação não usa classes como Triangle, Camera, Hittable, etc. \n",
    "\n",
    "2- **final**: a implementação usa classes como Triangle, Camera, Hittable, etc."
   ]
  },
  {
   "cell_type": "markdown",
   "metadata": {},
   "source": [
    "## Importações"
   ]
  },
  {
   "cell_type": "code",
   "execution_count": 1,
   "metadata": {},
   "outputs": [],
   "source": [
    "import sys\n",
    "import os\n",
    "\n",
    "import numpy as np\n",
    "from tqdm import tqdm\n",
    "\n",
    "sys.path.append(os.path.abspath(os.path.join('../../..')))\n",
    "\n",
    "from Atividade04.src.classes.Ray import Ray\n",
    "from Atividade02.src.vectorized.Vec3 import Vec3, Point3, Color\n",
    "from Atividade01.src.ImageIO import ImageWriter\n",
    "from Atividade01.src.Image import Image\n",
    "\n",
    "from Atividade04.src.classes.Triangle import Triangle\n",
    "from Atividade04.src.classes.HittableList import HittableList\n",
    "from Atividade04.src.classes.Camera import Camera\n",
    "from Atividade04.src.constants import infinity\n",
    "from Atividade04.src.classes.Interval import Interval"
   ]
  },
  {
   "cell_type": "markdown",
   "metadata": {},
   "source": [
    "## Implementação inicial"
   ]
  },
  {
   "cell_type": "code",
   "execution_count": 2,
   "metadata": {},
   "outputs": [],
   "source": [
    "aspect_ratio = 16.0 / 9.0\n",
    "image_width = 400\n",
    "\n",
    "image_height = int(image_width / aspect_ratio)\n",
    "if image_height < 1:\n",
    "    image_height = 1\n",
    "\n",
    "viewport_height = 2.0\n",
    "viewport_width = viewport_height * (image_width / image_height)\n",
    "# OBS: viewport_width: não está usando a variável aspect_ratio, pois a variável aspect_ratio é a proporção ideal da imagem, porém, arredondamos image_height para inteiro, podendo assim perder um pouco de precisão na proporção da imagem.\n"
   ]
  },
  {
   "cell_type": "code",
   "execution_count": 3,
   "metadata": {},
   "outputs": [
    {
     "name": "stderr",
     "output_type": "stream",
     "text": [
      "  0%|          | 0/225 [00:00<?, ?it/s]"
     ]
    },
    {
     "name": "stderr",
     "output_type": "stream",
     "text": [
      "100%|██████████| 225/225 [00:14<00:00, 15.21it/s]\n"
     ]
    },
    {
     "data": {
      "image/png": "[encoded data removed]",
      "text/plain": [
       "<PIL.Image.Image image mode=RGB size=400x225>"
      ]
     },
     "metadata": {},
     "output_type": "display_data"
    }
   ],
   "source": [
    "# Baseado no tutorial disponível em:\n",
    "# https://www.scratchapixel.com/lessons/3d-basic-rendering/ray-tracing-rendering-a-triangle/ray-triangle-intersection-geometric-solution.html\n",
    "\n",
    "\n",
    "def hit_triangle(vertex_1: Point3, vertex_2: Point3, vertex_3: Point3, ray: Ray):\n",
    "\n",
    "    # Descobrindo o vetor normal\n",
    "    v1_to_v2 = vertex_2 - vertex_1\n",
    "    v1_to_v3 = vertex_3 - vertex_1\n",
    "    normal = v1_to_v2.cross(v1_to_v3)\n",
    "\n",
    "    # Descobrindo o valor P: intersecção do raio com o plano formado pelo triângulo\n",
    "    normal_dot_ray_dir = normal.dot(ray.direction)\n",
    "    if normal_dot_ray_dir == 0:\n",
    "        return False  # O raio é paralelo ao plano\n",
    "    \n",
    "    d = -normal.dot(vertex_1)\n",
    "    t = -(normal.dot(ray.origin) + d) / normal_dot_ray_dir\n",
    "\n",
    "    if t < 0:\n",
    "        return False  # O triângulo está atrás do raio\n",
    "    \n",
    "    intersect_point = ray.at(t)\n",
    "\n",
    "    # Verificando se o ponto de intersecção está dentro ou fora do triângulo\n",
    "    # Todo lugar que retornar False, quer dizer que o ponto está à direita da aresta, logo, fora do triângulo\n",
    "    # Só estará dentro do triângulo se para todas as arestas, o ponto estiver para esquerda\n",
    "    edge_1 = vertex_2 - vertex_1\n",
    "    vp1= intersect_point - vertex_1\n",
    "    c = edge_1.cross(vp1)\n",
    "    if normal.dot(c) < 0:\n",
    "        return False\n",
    "    \n",
    "    edge_2 = vertex_3 - vertex_2\n",
    "    vp2= intersect_point - vertex_2\n",
    "    c = edge_2.cross(vp2)\n",
    "    if normal.dot(c) < 0:\n",
    "        return False\n",
    "\n",
    "    edge_3 = vertex_1 - vertex_3\n",
    "    vp3= intersect_point - vertex_3\n",
    "    c = edge_3.cross(vp3)\n",
    "    if normal.dot(c) < 0:\n",
    "        return False\n",
    "    \n",
    "    return True\n",
    "\n",
    "\n",
    "def ray_color(ray: Ray):\n",
    "    # Se acertar a esfera, pinta de vermelho\n",
    "    if hit_triangle(Point3([-1, -0.5, -1]), Point3([0.0, 0.5, -1]), Point3([1.0, -0.5, -1]), ray):\n",
    "        return Color([1, 0, 0])\n",
    "    \n",
    "    # Se não, pinta com o fundo (degradê)\n",
    "    unit_direction = ray.direction.unit_vector()\n",
    "    a = 0.5 * (unit_direction.y + 1.0)\n",
    "    return (1.0 - a) * Color([1.0, 1.0, 1.0]) + a * Color([0.5, 0.7, 1.0])\n",
    "\n",
    "def raytrace_pipeline(filename: str):\n",
    "    focal_length = 1.0\n",
    "    camera_center = Point3([0, 0, 0])\n",
    "\n",
    "    viewport_u = Vec3([viewport_width, 0, 0])\n",
    "    viewport_v = Vec3([0, -viewport_height, 0])\n",
    "\n",
    "    pixel_delta_u = viewport_u / image_width\n",
    "    pixel_delta_v = viewport_v / image_height\n",
    "\n",
    "    # If pixels are spaced the same distance horizontally as they are vertically, the viewport that bounds them will have the same aspect ratio as the rendered image.\n",
    "    # Como estamos definindo o viewport para ter o mesmo aspect ratio da imagem (quantidade de pixels), então, os pixels terão o mesmo espaçamento horizontal e vertical.\n",
    "\n",
    "    viewport_upper_left = camera_center - Vec3([0, 0, focal_length]) - (viewport_u / 2) - (viewport_v / 2)\n",
    "    pixel00_loc = viewport_upper_left + 0.5 * (pixel_delta_u + pixel_delta_v)\n",
    "    # Precisa adicionar 0,5 da distancia de separação dos pixels. O canto esquerdo do viewport não é o mesmo que o ponto 0,0 da imagem. O viewport precisa ter uma borda de 0,5 espaçamento de pixel para cada lado.\n",
    "\n",
    "\n",
    "    # CRIAR MATRIZ\n",
    "    image = Image(image_width, image_height)\n",
    "    for j in tqdm(range(image_height)):\n",
    "        for i in range(image_width):\n",
    "            pixel_center = pixel00_loc + (i * pixel_delta_u) + (j * pixel_delta_v)\n",
    "            ray_direction = pixel_center - camera_center\n",
    "            ray = Ray(camera_center, ray_direction)\n",
    "\n",
    "            pixel_color = ray_color(ray)\n",
    "            image[j, i] = pixel_color\n",
    "\n",
    "    img_writer = ImageWriter(image)\n",
    "    img_writer.save(filename)\n",
    "    display(img_writer.image)\n",
    "\n",
    "    \n",
    "raytrace_pipeline('../../imgs/initial-triangle.png')"
   ]
  },
  {
   "cell_type": "markdown",
   "metadata": {},
   "source": [
    "## Implementação final"
   ]
  },
  {
   "cell_type": "code",
   "execution_count": 4,
   "metadata": {},
   "outputs": [],
   "source": [
    "def ray_color(ray: Ray, world: HittableList) -> Color:\n",
    "    hit, rec = world.hit(ray, Interval(0, infinity))\n",
    "    if hit:\n",
    "        return Color([1, 0, 0])\n",
    "    \n",
    "    unit_direction = ray.direction.unit_vector()\n",
    "    t = 0.5 * (unit_direction.y + 1.0)\n",
    "    return (1.0 - t) * Color([1.0, 1.0, 1.0]) + t * Color([0.5, 0.7, 1.0])"
   ]
  },
  {
   "cell_type": "code",
   "execution_count": 5,
   "metadata": {},
   "outputs": [
    {
     "name": "stderr",
     "output_type": "stream",
     "text": [
      "100%|██████████| 225/225 [00:15<00:00, 14.50it/s]\n"
     ]
    },
    {
     "data": {
      "image/png": "[encoded data removed]",
      "text/plain": [
       "<PIL.Image.Image image mode=RGB size=400x225>"
      ]
     },
     "metadata": {},
     "output_type": "display_data"
    },
    {
     "data": {
      "text/plain": [
       "<Atividade01.src.Image.Image at 0x20697f6e820>"
      ]
     },
     "execution_count": 5,
     "metadata": {},
     "output_type": "execute_result"
    }
   ],
   "source": [
    "camera = Camera()\n",
    "\n",
    "world = HittableList()\n",
    "world.add(Triangle(Point3([-1, -0.5, -1]), Point3([0.0, 0.5, -1]), Point3([1.0, -0.5, -1])))\n",
    "\n",
    "camera.ray_color = ray_color  # Para manter o mesmo desenho, é trocado a função ray_color\n",
    "# A que está implementada originalmente na classe utiliza a normal para dar cor\n",
    "\n",
    "camera.render(world, '../../imgs/final-triangle.png')"
   ]
  }
 ],
 "metadata": {
  "kernelspec": {
   "display_name": "cg",
   "language": "python",
   "name": "python3"
  },
  "language_info": {
   "codemirror_mode": {
    "name": "ipython",
    "version": 3
   },
   "file_extension": ".py",
   "mimetype": "text/x-python",
   "name": "python",
   "nbconvert_exporter": "python",
   "pygments_lexer": "ipython3",
   "version": "3.8.18"
  }
 },
 "nbformat": 4,
 "nbformat_minor": 2
}
