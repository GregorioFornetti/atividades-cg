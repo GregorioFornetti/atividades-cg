{
 "cells": [
  {
   "cell_type": "markdown",
   "metadata": {},
   "source": [
    "# Criando imagem usando a classe Vec3"
   ]
  },
  {
   "cell_type": "markdown",
   "metadata": {},
   "source": [
    "## Importações"
   ]
  },
  {
   "cell_type": "code",
   "execution_count": 1,
   "metadata": {},
   "outputs": [],
   "source": [
    "import sys\n",
    "import os\n",
    "\n",
    "sys.path.append(os.path.abspath(os.path.join('..')))\n",
    "\n",
    "from Atividade02.vectorized.Vec3 import Color\n",
    "from tqdm import tqdm"
   ]
  },
  {
   "cell_type": "code",
   "execution_count": 2,
   "metadata": {},
   "outputs": [
    {
     "name": "stderr",
     "output_type": "stream",
     "text": [
      "  0%|          | 0/256 [00:00<?, ?it/s]"
     ]
    },
    {
     "name": "stderr",
     "output_type": "stream",
     "text": [
      "100%|██████████| 256/256 [00:00<00:00, 364.53it/s]\n"
     ]
    }
   ],
   "source": [
    "\n",
    "img_width = 256\n",
    "img_height = 256\n",
    "\n",
    "with open('img_tutorial.ppm', 'w') as img_file:\n",
    "\n",
    "    # Cabeçalho do arquivo PPM\n",
    "    img_file.write('P3\\n')  # Formato ASCII\n",
    "    img_file.write(f'{img_width} {img_height}\\n')  # Largura e altura da imagem\n",
    "    img_file.write('255\\n')  # Valor máximo de cada cor\n",
    "\n",
    "    # Corpo do arquivo PPM\n",
    "    for i in tqdm(range(img_height)):\n",
    "        for j in range(img_width):\n",
    "            color = Color([j / (img_width - 1), i / (img_height - 1), 0])\n",
    "\n",
    "            img_file.write(f'{color}\\n')"
   ]
  }
 ],
 "metadata": {
  "kernelspec": {
   "display_name": "cg",
   "language": "python",
   "name": "python3"
  },
  "language_info": {
   "codemirror_mode": {
    "name": "ipython",
    "version": 3
   },
   "file_extension": ".py",
   "mimetype": "text/x-python",
   "name": "python",
   "nbconvert_exporter": "python",
   "pygments_lexer": "ipython3",
   "version": "3.8.18"
  }
 },
 "nbformat": 4,
 "nbformat_minor": 2
}
