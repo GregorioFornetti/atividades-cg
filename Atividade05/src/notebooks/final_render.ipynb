{
 "cells": [
  {
   "cell_type": "markdown",
   "metadata": {},
   "source": [
    "# Renderização final do exercício"
   ]
  },
  {
   "cell_type": "markdown",
   "metadata": {},
   "source": [
    "Visualize uma cena (com pelo menos três objetos) e de dois pontos de vista diferente."
   ]
  },
  {
   "cell_type": "markdown",
   "metadata": {},
   "source": [
    "## Importações"
   ]
  },
  {
   "cell_type": "code",
   "execution_count": 1,
   "metadata": {},
   "outputs": [],
   "source": [
    "import sys\n",
    "import os\n",
    "\n",
    "import numpy as np\n",
    "from tqdm import tqdm\n",
    "\n",
    "sys.path.append(os.path.abspath(os.path.join('../../..')))\n",
    "\n",
    "from Atividade02.src.vectorized.Vec3 import Point3, Color\n",
    "\n",
    "from Atividade03.src.Model import Model\n",
    "\n",
    "from Atividade04.src.classes.Sphere import Sphere\n",
    "from Atividade04.src.classes.HittableList import HittableList\n",
    "from Atividade04.src.classes.Camera import Camera\n",
    "from Atividade06.src.Lambertian import Lambertian\n",
    "from Atividade06.src.Metal import Metal\n",
    "from Atividade06.src.Dielectric import Dielectric"
   ]
  },
  {
   "cell_type": "markdown",
   "metadata": {},
   "source": [
    "## Criando o mundo"
   ]
  },
  {
   "cell_type": "code",
   "execution_count": 2,
   "metadata": {},
   "outputs": [],
   "source": [
    "world = HittableList()\n",
    "\n",
    "model = Model('../../../Atividade03/objs/Cube.obj', Lambertian(Color([1, 0, 1])))\n",
    "for face in model.faces:\n",
    "    world.add(face)\n",
    "\n",
    "world.add(\n",
    "    Sphere(\n",
    "        Point3([-1, 0, -1]),\n",
    "        0.5,\n",
    "        Lambertian(Color([1, 0, 0]))\n",
    "    )\n",
    ")\n",
    "world.add(\n",
    "    Sphere(\n",
    "        Point3([1, 0, 1]),\n",
    "        0.5,\n",
    "        Lambertian(Color([0, 0, 1]))\n",
    "    )\n",
    ")\n",
    "world.add(\n",
    "    Sphere(\n",
    "        Point3([0, -100.5, -1]), \n",
    "        100,\n",
    "        Lambertian(Color([0.5, 1, 0.5]))\n",
    "    )\n",
    ")"
   ]
  },
  {
   "cell_type": "markdown",
   "metadata": {},
   "source": [
    "## Renderizando"
   ]
  },
  {
   "cell_type": "code",
   "execution_count": 3,
   "metadata": {},
   "outputs": [
    {
     "name": "stderr",
     "output_type": "stream",
     "text": [
      "  0%|          | 0/112 [00:00<?, ?it/s]"
     ]
    },
    {
     "name": "stderr",
     "output_type": "stream",
     "text": [
      "  1%|          | 1/112 [00:46<1:25:54, 46.43s/it]\n"
     ]
    },
    {
     "ename": "KeyboardInterrupt",
     "evalue": "",
     "output_type": "error",
     "traceback": [
      "\u001b[1;31m---------------------------------------------------------------------------\u001b[0m",
      "\u001b[1;31mKeyboardInterrupt\u001b[0m                         Traceback (most recent call last)",
      "Cell \u001b[1;32mIn[3], line 9\u001b[0m\n\u001b[0;32m      1\u001b[0m camera \u001b[38;5;241m=\u001b[39m Camera(\n\u001b[0;32m      2\u001b[0m     image_width\u001b[38;5;241m=\u001b[39m\u001b[38;5;241m200\u001b[39m, \n\u001b[0;32m      3\u001b[0m     samples_per_pixel\u001b[38;5;241m=\u001b[39m\u001b[38;5;241m100\u001b[39m, \n\u001b[1;32m   (...)\u001b[0m\n\u001b[0;32m      6\u001b[0m     lookat\u001b[38;5;241m=\u001b[39mPoint3([\u001b[38;5;241m0\u001b[39m, \u001b[38;5;241m0\u001b[39m, \u001b[38;5;241m0\u001b[39m])\n\u001b[0;32m      7\u001b[0m )\n\u001b[1;32m----> 9\u001b[0m \u001b[43mcamera\u001b[49m\u001b[38;5;241;43m.\u001b[39;49m\u001b[43mrender\u001b[49m\u001b[43m(\u001b[49m\u001b[43mworld\u001b[49m\u001b[43m,\u001b[49m\u001b[43m \u001b[49m\u001b[38;5;124;43m'\u001b[39;49m\u001b[38;5;124;43m../../imgs/final-first-angle.png\u001b[39;49m\u001b[38;5;124;43m'\u001b[39;49m\u001b[43m)\u001b[49m\n",
      "File \u001b[1;32mc:\\Users\\gregf\\Desktop\\UFSCAR\\2023-2\\2-CG\\atividades-cg\\Atividade04\\src\\classes\\Camera.py:107\u001b[0m, in \u001b[0;36mCamera.render\u001b[1;34m(self, world, filename)\u001b[0m\n\u001b[0;32m    105\u001b[0m         \u001b[38;5;28;01mfor\u001b[39;00m _ \u001b[38;5;129;01min\u001b[39;00m \u001b[38;5;28mrange\u001b[39m(\u001b[38;5;28mself\u001b[39m\u001b[38;5;241m.\u001b[39msamples_per_pixel):\n\u001b[0;32m    106\u001b[0m             ray \u001b[38;5;241m=\u001b[39m \u001b[38;5;28mself\u001b[39m\u001b[38;5;241m.\u001b[39mget_ray(i, j)\n\u001b[1;32m--> 107\u001b[0m             pixel_color \u001b[38;5;241m+\u001b[39m\u001b[38;5;241m=\u001b[39m \u001b[38;5;28;43mself\u001b[39;49m\u001b[38;5;241;43m.\u001b[39;49m\u001b[43mray_color\u001b[49m\u001b[43m(\u001b[49m\u001b[43mray\u001b[49m\u001b[43m,\u001b[49m\u001b[43m \u001b[49m\u001b[38;5;28;43mself\u001b[39;49m\u001b[38;5;241;43m.\u001b[39;49m\u001b[43mmax_depth\u001b[49m\u001b[43m,\u001b[49m\u001b[43m \u001b[49m\u001b[43mworld\u001b[49m\u001b[43m)\u001b[49m\n\u001b[0;32m    108\u001b[0m         image[j, i] \u001b[38;5;241m=\u001b[39m transform_color(pixel_color, \u001b[38;5;28mself\u001b[39m\u001b[38;5;241m.\u001b[39msamples_per_pixel)\n\u001b[0;32m    110\u001b[0m img_writer \u001b[38;5;241m=\u001b[39m ImageWriter(image)\n",
      "File \u001b[1;32mc:\\Users\\gregf\\Desktop\\UFSCAR\\2023-2\\2-CG\\atividades-cg\\Atividade04\\src\\classes\\Camera.py:87\u001b[0m, in \u001b[0;36mCamera.ray_color\u001b[1;34m(self, ray, depth, world)\u001b[0m\n\u001b[0;32m     84\u001b[0m \u001b[38;5;28;01mif\u001b[39;00m depth \u001b[38;5;241m<\u001b[39m\u001b[38;5;241m=\u001b[39m \u001b[38;5;241m0\u001b[39m:\n\u001b[0;32m     85\u001b[0m     \u001b[38;5;28;01mreturn\u001b[39;00m Color([\u001b[38;5;241m0\u001b[39m, \u001b[38;5;241m0\u001b[39m, \u001b[38;5;241m0\u001b[39m])\n\u001b[1;32m---> 87\u001b[0m hit, rec \u001b[38;5;241m=\u001b[39m \u001b[43mworld\u001b[49m\u001b[38;5;241;43m.\u001b[39;49m\u001b[43mhit\u001b[49m\u001b[43m(\u001b[49m\u001b[43mray\u001b[49m\u001b[43m,\u001b[49m\u001b[43m \u001b[49m\u001b[43mInterval\u001b[49m\u001b[43m(\u001b[49m\u001b[38;5;241;43m0.001\u001b[39;49m\u001b[43m,\u001b[49m\u001b[43m \u001b[49m\u001b[43minfinity\u001b[49m\u001b[43m)\u001b[49m\u001b[43m)\u001b[49m\n\u001b[0;32m     88\u001b[0m \u001b[38;5;28;01mif\u001b[39;00m hit:\n\u001b[0;32m     89\u001b[0m     is_scatered, scattered, attenuation \u001b[38;5;241m=\u001b[39m rec\u001b[38;5;241m.\u001b[39mmaterial\u001b[38;5;241m.\u001b[39mscatter(ray, rec)\n",
      "File \u001b[1;32mc:\\Users\\gregf\\Desktop\\UFSCAR\\2023-2\\2-CG\\atividades-cg\\Atividade04\\src\\classes\\HittableList.py:56\u001b[0m, in \u001b[0;36mHittableList.hit\u001b[1;34m(self, ray, interval)\u001b[0m\n\u001b[0;32m     54\u001b[0m closest_so_far \u001b[38;5;241m=\u001b[39m interval\u001b[38;5;241m.\u001b[39mmax\n\u001b[0;32m     55\u001b[0m \u001b[38;5;28;01mfor\u001b[39;00m obj \u001b[38;5;129;01min\u001b[39;00m \u001b[38;5;28mself\u001b[39m\u001b[38;5;241m.\u001b[39mobjects:\n\u001b[1;32m---> 56\u001b[0m     hit, rec \u001b[38;5;241m=\u001b[39m \u001b[43mobj\u001b[49m\u001b[38;5;241;43m.\u001b[39;49m\u001b[43mhit\u001b[49m\u001b[43m(\u001b[49m\u001b[43mray\u001b[49m\u001b[43m,\u001b[49m\u001b[43m \u001b[49m\u001b[43mInterval\u001b[49m\u001b[43m(\u001b[49m\u001b[43minterval\u001b[49m\u001b[38;5;241;43m.\u001b[39;49m\u001b[43mmin\u001b[49m\u001b[43m,\u001b[49m\u001b[43m \u001b[49m\u001b[43mclosest_so_far\u001b[49m\u001b[43m)\u001b[49m\u001b[43m)\u001b[49m\n\u001b[0;32m     57\u001b[0m     \u001b[38;5;28;01mif\u001b[39;00m hit:\n\u001b[0;32m     58\u001b[0m         hit_anything \u001b[38;5;241m=\u001b[39m \u001b[38;5;28;01mTrue\u001b[39;00m\n",
      "File \u001b[1;32mc:\\Users\\gregf\\Desktop\\UFSCAR\\2023-2\\2-CG\\atividades-cg\\Atividade04\\src\\classes\\Triangle.py:175\u001b[0m, in \u001b[0;36mTriangle.hit\u001b[1;34m(self, ray, t_interval)\u001b[0m\n\u001b[0;32m    172\u001b[0m normal \u001b[38;5;241m=\u001b[39m v1_to_v2\u001b[38;5;241m.\u001b[39mcross(v1_to_v3)\n\u001b[0;32m    174\u001b[0m \u001b[38;5;66;03m# Descobrindo o valor P: intersecção do raio com o plano formado pelo triângulo\u001b[39;00m\n\u001b[1;32m--> 175\u001b[0m normal_dot_ray_dir \u001b[38;5;241m=\u001b[39m \u001b[43mnormal\u001b[49m\u001b[38;5;241;43m.\u001b[39;49m\u001b[43mdot\u001b[49m\u001b[43m(\u001b[49m\u001b[43mray\u001b[49m\u001b[38;5;241;43m.\u001b[39;49m\u001b[43mdirection\u001b[49m\u001b[43m)\u001b[49m\n\u001b[0;32m    176\u001b[0m \u001b[38;5;28;01mif\u001b[39;00m normal_dot_ray_dir \u001b[38;5;241m==\u001b[39m \u001b[38;5;241m0\u001b[39m:\n\u001b[0;32m    177\u001b[0m     \u001b[38;5;28;01mreturn\u001b[39;00m \u001b[38;5;28;01mFalse\u001b[39;00m, \u001b[38;5;28;01mNone\u001b[39;00m  \u001b[38;5;66;03m# O raio é paralelo ao plano\u001b[39;00m\n",
      "File \u001b[1;32mc:\\Users\\gregf\\Desktop\\UFSCAR\\2023-2\\2-CG\\atividades-cg\\Atividade02\\src\\vectorized\\Vec3.py:450\u001b[0m, in \u001b[0;36mVec3.dot\u001b[1;34m(self, other)\u001b[0m\n\u001b[0;32m    427\u001b[0m \u001b[38;5;28;01mdef\u001b[39;00m \u001b[38;5;21mdot\u001b[39m(\u001b[38;5;28mself\u001b[39m, other: \u001b[38;5;124m'\u001b[39m\u001b[38;5;124mVec3\u001b[39m\u001b[38;5;124m'\u001b[39m) \u001b[38;5;241m-\u001b[39m\u001b[38;5;241m>\u001b[39m np\u001b[38;5;241m.\u001b[39mfloat64:\n\u001b[0;32m    428\u001b[0m \u001b[38;5;250m    \u001b[39m\u001b[38;5;124;03m'''\u001b[39;00m\n\u001b[0;32m    429\u001b[0m \u001b[38;5;124;03m    Retorna o produto escalar entre dois vetores.\u001b[39;00m\n\u001b[0;32m    430\u001b[0m \n\u001b[1;32m   (...)\u001b[0m\n\u001b[0;32m    448\u001b[0m \u001b[38;5;124;03m        - np.float64 - Resultado do produto escalar.\u001b[39;00m\n\u001b[0;32m    449\u001b[0m \u001b[38;5;124;03m    '''\u001b[39;00m\n\u001b[1;32m--> 450\u001b[0m     \u001b[38;5;28;01mreturn\u001b[39;00m \u001b[38;5;28;43msuper\u001b[39;49m\u001b[43m(\u001b[49m\u001b[43m)\u001b[49m\u001b[38;5;241;43m.\u001b[39;49m\u001b[43mdot\u001b[49m\u001b[43m(\u001b[49m\u001b[43mother\u001b[49m\u001b[43m)\u001b[49m\n",
      "File \u001b[1;32mc:\\Users\\gregf\\Desktop\\UFSCAR\\2023-2\\2-CG\\atividades-cg\\Atividade02\\src\\vectorized\\Vec.py:461\u001b[0m, in \u001b[0;36mVec.dot\u001b[1;34m(self, other)\u001b[0m\n\u001b[0;32m    458\u001b[0m \u001b[38;5;28;01mif\u001b[39;00m \u001b[38;5;129;01mnot\u001b[39;00m \u001b[38;5;28misinstance\u001b[39m(other, Vec):\n\u001b[0;32m    459\u001b[0m     \u001b[38;5;28;01mraise\u001b[39;00m \u001b[38;5;167;01mTypeError\u001b[39;00m(\u001b[38;5;124mf\u001b[39m\u001b[38;5;124m\"\u001b[39m\u001b[38;5;124mTipo inválido para produto escalar, esperado: Vec, recebido: \u001b[39m\u001b[38;5;132;01m{\u001b[39;00m\u001b[38;5;28mtype\u001b[39m(other)\u001b[38;5;132;01m}\u001b[39;00m\u001b[38;5;124m\"\u001b[39m)\n\u001b[1;32m--> 461\u001b[0m \u001b[38;5;28;01mreturn\u001b[39;00m \u001b[43mnp\u001b[49m\u001b[38;5;241;43m.\u001b[39;49m\u001b[43mdot\u001b[49m\u001b[43m(\u001b[49m\u001b[38;5;28;43mself\u001b[39;49m\u001b[38;5;241;43m.\u001b[39;49m\u001b[43mvec\u001b[49m\u001b[43m,\u001b[49m\u001b[43m \u001b[49m\u001b[43mother\u001b[49m\u001b[38;5;241;43m.\u001b[39;49m\u001b[43mvec\u001b[49m\u001b[43m)\u001b[49m\n",
      "File \u001b[1;32m<__array_function__ internals>:200\u001b[0m, in \u001b[0;36mdot\u001b[1;34m(*args, **kwargs)\u001b[0m\n",
      "\u001b[1;31mKeyboardInterrupt\u001b[0m: "
     ]
    }
   ],
   "source": [
    "camera = Camera(\n",
    "    image_width=200, \n",
    "    samples_per_pixel=100, \n",
    "    max_depth=10,\n",
    "    lookfrom=Point3([0, 2, -5]),\n",
    "    lookat=Point3([0, 0, 0])\n",
    ")\n",
    "\n",
    "camera.render(world, '../../imgs/final-first-angle.png')"
   ]
  },
  {
   "cell_type": "markdown",
   "metadata": {},
   "source": [
    "## Renderização com a camera em outra posição"
   ]
  },
  {
   "cell_type": "code",
   "execution_count": null,
   "metadata": {},
   "outputs": [
    {
     "name": "stderr",
     "output_type": "stream",
     "text": [
      "100%|██████████| 112/112 [05:16<00:00,  2.83s/it]\n"
     ]
    },
    {
     "data": {
      "image/png": "[encoded data removed]",
      "text/plain": [
       "<PIL.Image.Image image mode=RGB size=200x112>"
      ]
     },
     "metadata": {},
     "output_type": "display_data"
    },
    {
     "data": {
      "text/plain": [
       "<Atividade01.src.Image.Image at 0x1cd8bd018e0>"
      ]
     },
     "execution_count": 4,
     "metadata": {},
     "output_type": "execute_result"
    }
   ],
   "source": [
    "camera = Camera(\n",
    "    image_width=200, \n",
    "    samples_per_pixel=100, \n",
    "    max_depth=10, \n",
    "    lookfrom=Point3([0, 2, 5]), \n",
    "    lookat=Point3([0, 0, -1])\n",
    ")\n",
    "\n",
    "camera.render(world, '../../imgs/final-second-angle.png')"
   ]
  }
 ],
 "metadata": {
  "kernelspec": {
   "display_name": "cg",
   "language": "python",
   "name": "python3"
  },
  "language_info": {
   "codemirror_mode": {
    "name": "ipython",
    "version": 3
   },
   "file_extension": ".py",
   "mimetype": "text/x-python",
   "name": "python",
   "nbconvert_exporter": "python",
   "pygments_lexer": "ipython3",
   "version": "3.8.18"
  }
 },
 "nbformat": 4,
 "nbformat_minor": 2
}
