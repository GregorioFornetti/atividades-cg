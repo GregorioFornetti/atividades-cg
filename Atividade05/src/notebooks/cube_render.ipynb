{
 "cells": [
  {
   "cell_type": "markdown",
   "metadata": {},
   "source": [
    "# Tentando renderizar um cubo"
   ]
  },
  {
   "cell_type": "markdown",
   "metadata": {},
   "source": [
    "O cubo possui normais"
   ]
  },
  {
   "cell_type": "markdown",
   "metadata": {},
   "source": [
    "## Importações"
   ]
  },
  {
   "cell_type": "code",
   "execution_count": 1,
   "metadata": {},
   "outputs": [],
   "source": [
    "import sys\n",
    "import os\n",
    "\n",
    "import numpy as np\n",
    "from tqdm import tqdm\n",
    "\n",
    "sys.path.append(os.path.abspath(os.path.join('../../..')))\n",
    "\n",
    "from Atividade02.src.vectorized.Vec3 import Point3\n",
    "\n",
    "from Atividade03.src.Model import Model\n",
    "\n",
    "from Atividade04.src.classes.Triangle import Triangle\n",
    "from Atividade04.src.classes.Sphere import Sphere\n",
    "from Atividade04.src.classes.HittableList import HittableList\n",
    "from Atividade04.src.classes.Camera import Camera"
   ]
  },
  {
   "cell_type": "markdown",
   "metadata": {},
   "source": [
    "## Renderizando o cubo"
   ]
  },
  {
   "cell_type": "code",
   "execution_count": 2,
   "metadata": {},
   "outputs": [
    {
     "name": "stdout",
     "output_type": "stream",
     "text": [
      "[0.0 0.0 -1.0 0.0 0.0 -1.0 0.0 0.0 -1.0]\n",
      "[0.0 0.0 -1.0 0.0 0.0 -1.0 0.0 0.0 -1.0]\n",
      "[-1.0 0.0 0.0 -1.0 0.0 0.0 -1.0 0.0 0.0]\n",
      "[-1.0 0.0 0.0 -1.0 0.0 0.0 -1.0 0.0 0.0]\n",
      "[0.0 1.0 0.0 0.0 1.0 0.0 0.0 1.0 0.0]\n",
      "[0.0 1.0 0.0 0.0 1.0 0.0 0.0 1.0 0.0]\n",
      "[1.0 0.0 0.0 1.0 0.0 0.0 1.0 0.0 0.0]\n",
      "[1.0 0.0 0.0 1.0 0.0 0.0 1.0 0.0 0.0]\n",
      "[0.0 -1.0 0.0 0.0 -1.0 0.0 0.0 -1.0 0.0]\n",
      "[0.0 -1.0 0.0 0.0 -1.0 0.0 0.0 -1.0 0.0]\n",
      "[0.0 0.0 1.0 0.0 0.0 1.0 0.0 0.0 1.0]\n",
      "[0.0 0.0 1.0 0.0 0.0 1.0 0.0 0.0 1.0]\n"
     ]
    },
    {
     "name": "stderr",
     "output_type": "stream",
     "text": [
      "  0%|          | 0/112 [00:00<?, ?it/s]"
     ]
    },
    {
     "name": "stderr",
     "output_type": "stream",
     "text": [
      " 55%|█████▌    | 62/112 [01:35<01:17,  1.54s/it]\n"
     ]
    },
    {
     "ename": "ValueError",
     "evalue": "The truth value of an array with more than one element is ambiguous. Use a.any() or a.all()",
     "output_type": "error",
     "traceback": [
      "\u001b[1;31m---------------------------------------------------------------------------\u001b[0m",
      "\u001b[1;31mValueError\u001b[0m                                Traceback (most recent call last)",
      "Cell \u001b[1;32mIn[2], line 10\u001b[0m\n\u001b[0;32m      7\u001b[0m     \u001b[38;5;28mprint\u001b[39m(face\u001b[38;5;241m.\u001b[39mnormals)\n\u001b[0;32m      8\u001b[0m world\u001b[38;5;241m.\u001b[39madd(Sphere(Point3([\u001b[38;5;241m0\u001b[39m, \u001b[38;5;241m-\u001b[39m\u001b[38;5;241m100.5\u001b[39m, \u001b[38;5;241m-\u001b[39m\u001b[38;5;241m1\u001b[39m]), \u001b[38;5;241m100\u001b[39m))\n\u001b[1;32m---> 10\u001b[0m \u001b[43mcamera\u001b[49m\u001b[38;5;241;43m.\u001b[39;49m\u001b[43mrender\u001b[49m\u001b[43m(\u001b[49m\u001b[43mworld\u001b[49m\u001b[43m,\u001b[49m\u001b[43m \u001b[49m\u001b[38;5;124;43m\"\u001b[39;49m\u001b[38;5;124;43m../../imgs/cube-simple.png\u001b[39;49m\u001b[38;5;124;43m\"\u001b[39;49m\u001b[43m)\u001b[49m\n",
      "File \u001b[1;32mc:\\Users\\gregf\\Desktop\\UFSCAR\\2023-2\\2-CG\\atividades-cg\\Atividade04\\src\\classes\\Camera.py:95\u001b[0m, in \u001b[0;36mCamera.render\u001b[1;34m(self, world, filename)\u001b[0m\n\u001b[0;32m     93\u001b[0m         \u001b[38;5;28;01mfor\u001b[39;00m _ \u001b[38;5;129;01min\u001b[39;00m \u001b[38;5;28mrange\u001b[39m(\u001b[38;5;28mself\u001b[39m\u001b[38;5;241m.\u001b[39msamples_per_pixel):\n\u001b[0;32m     94\u001b[0m             ray \u001b[38;5;241m=\u001b[39m \u001b[38;5;28mself\u001b[39m\u001b[38;5;241m.\u001b[39mget_ray(i, j)\n\u001b[1;32m---> 95\u001b[0m             pixel_color \u001b[38;5;241m+\u001b[39m\u001b[38;5;241m=\u001b[39m \u001b[38;5;28;43mself\u001b[39;49m\u001b[38;5;241;43m.\u001b[39;49m\u001b[43mray_color\u001b[49m\u001b[43m(\u001b[49m\u001b[43mray\u001b[49m\u001b[43m,\u001b[49m\u001b[43m \u001b[49m\u001b[38;5;28;43mself\u001b[39;49m\u001b[38;5;241;43m.\u001b[39;49m\u001b[43mmax_depth\u001b[49m\u001b[43m,\u001b[49m\u001b[43m \u001b[49m\u001b[43mworld\u001b[49m\u001b[43m)\u001b[49m\n\u001b[0;32m     96\u001b[0m         image[j, i] \u001b[38;5;241m=\u001b[39m transform_color(pixel_color, \u001b[38;5;28mself\u001b[39m\u001b[38;5;241m.\u001b[39msamples_per_pixel)\n\u001b[0;32m     98\u001b[0m img_writer \u001b[38;5;241m=\u001b[39m ImageWriter(image)\n",
      "File \u001b[1;32mc:\\Users\\gregf\\Desktop\\UFSCAR\\2023-2\\2-CG\\atividades-cg\\Atividade04\\src\\classes\\Camera.py:79\u001b[0m, in \u001b[0;36mCamera.ray_color\u001b[1;34m(self, ray, depth, world)\u001b[0m\n\u001b[0;32m     77\u001b[0m \u001b[38;5;28;01mif\u001b[39;00m hit:\n\u001b[0;32m     78\u001b[0m     direction \u001b[38;5;241m=\u001b[39m rec\u001b[38;5;241m.\u001b[39mnormal \u001b[38;5;241m+\u001b[39m Vec3\u001b[38;5;241m.\u001b[39mrandom_unit_vector()\n\u001b[1;32m---> 79\u001b[0m     \u001b[38;5;28;01mreturn\u001b[39;00m \u001b[38;5;241m0.5\u001b[39m \u001b[38;5;241m*\u001b[39m \u001b[38;5;28;43mself\u001b[39;49m\u001b[38;5;241;43m.\u001b[39;49m\u001b[43mray_color\u001b[49m\u001b[43m(\u001b[49m\u001b[43mRay\u001b[49m\u001b[43m(\u001b[49m\u001b[43mrec\u001b[49m\u001b[38;5;241;43m.\u001b[39;49m\u001b[43mp\u001b[49m\u001b[43m,\u001b[49m\u001b[43m \u001b[49m\u001b[43mdirection\u001b[49m\u001b[43m)\u001b[49m\u001b[43m,\u001b[49m\u001b[43m \u001b[49m\u001b[43mdepth\u001b[49m\u001b[43m \u001b[49m\u001b[38;5;241;43m-\u001b[39;49m\u001b[43m \u001b[49m\u001b[38;5;241;43m1\u001b[39;49m\u001b[43m,\u001b[49m\u001b[43m \u001b[49m\u001b[43mworld\u001b[49m\u001b[43m)\u001b[49m\n\u001b[0;32m     81\u001b[0m unit_direction \u001b[38;5;241m=\u001b[39m ray\u001b[38;5;241m.\u001b[39mdirection\u001b[38;5;241m.\u001b[39munit_vector()\n\u001b[0;32m     82\u001b[0m t \u001b[38;5;241m=\u001b[39m \u001b[38;5;241m0.5\u001b[39m \u001b[38;5;241m*\u001b[39m (unit_direction\u001b[38;5;241m.\u001b[39my \u001b[38;5;241m+\u001b[39m \u001b[38;5;241m1.0\u001b[39m)\n",
      "File \u001b[1;32mc:\\Users\\gregf\\Desktop\\UFSCAR\\2023-2\\2-CG\\atividades-cg\\Atividade04\\src\\classes\\Camera.py:76\u001b[0m, in \u001b[0;36mCamera.ray_color\u001b[1;34m(self, ray, depth, world)\u001b[0m\n\u001b[0;32m     73\u001b[0m \u001b[38;5;28;01mif\u001b[39;00m depth \u001b[38;5;241m<\u001b[39m\u001b[38;5;241m=\u001b[39m \u001b[38;5;241m0\u001b[39m:\n\u001b[0;32m     74\u001b[0m     \u001b[38;5;28;01mreturn\u001b[39;00m Color([\u001b[38;5;241m0\u001b[39m, \u001b[38;5;241m0\u001b[39m, \u001b[38;5;241m0\u001b[39m])\n\u001b[1;32m---> 76\u001b[0m hit, rec \u001b[38;5;241m=\u001b[39m \u001b[43mworld\u001b[49m\u001b[38;5;241;43m.\u001b[39;49m\u001b[43mhit\u001b[49m\u001b[43m(\u001b[49m\u001b[43mray\u001b[49m\u001b[43m,\u001b[49m\u001b[43m \u001b[49m\u001b[43mInterval\u001b[49m\u001b[43m(\u001b[49m\u001b[38;5;241;43m0.001\u001b[39;49m\u001b[43m,\u001b[49m\u001b[43m \u001b[49m\u001b[43minfinity\u001b[49m\u001b[43m)\u001b[49m\u001b[43m)\u001b[49m\n\u001b[0;32m     77\u001b[0m \u001b[38;5;28;01mif\u001b[39;00m hit:\n\u001b[0;32m     78\u001b[0m     direction \u001b[38;5;241m=\u001b[39m rec\u001b[38;5;241m.\u001b[39mnormal \u001b[38;5;241m+\u001b[39m Vec3\u001b[38;5;241m.\u001b[39mrandom_unit_vector()\n",
      "File \u001b[1;32mc:\\Users\\gregf\\Desktop\\UFSCAR\\2023-2\\2-CG\\atividades-cg\\Atividade04\\src\\classes\\HittableList.py:56\u001b[0m, in \u001b[0;36mHittableList.hit\u001b[1;34m(self, ray, interval)\u001b[0m\n\u001b[0;32m     54\u001b[0m closest_so_far \u001b[38;5;241m=\u001b[39m interval\u001b[38;5;241m.\u001b[39mmax\n\u001b[0;32m     55\u001b[0m \u001b[38;5;28;01mfor\u001b[39;00m obj \u001b[38;5;129;01min\u001b[39;00m \u001b[38;5;28mself\u001b[39m\u001b[38;5;241m.\u001b[39mobjects:\n\u001b[1;32m---> 56\u001b[0m     hit, rec \u001b[38;5;241m=\u001b[39m \u001b[43mobj\u001b[49m\u001b[38;5;241;43m.\u001b[39;49m\u001b[43mhit\u001b[49m\u001b[43m(\u001b[49m\u001b[43mray\u001b[49m\u001b[43m,\u001b[49m\u001b[43m \u001b[49m\u001b[43mInterval\u001b[49m\u001b[43m(\u001b[49m\u001b[43minterval\u001b[49m\u001b[38;5;241;43m.\u001b[39;49m\u001b[43mmin\u001b[49m\u001b[43m,\u001b[49m\u001b[43m \u001b[49m\u001b[43mclosest_so_far\u001b[49m\u001b[43m)\u001b[49m\u001b[43m)\u001b[49m\n\u001b[0;32m     57\u001b[0m     \u001b[38;5;28;01mif\u001b[39;00m hit:\n\u001b[0;32m     58\u001b[0m         hit_anything \u001b[38;5;241m=\u001b[39m \u001b[38;5;28;01mTrue\u001b[39;00m\n",
      "File \u001b[1;32mc:\\Users\\gregf\\Desktop\\UFSCAR\\2023-2\\2-CG\\atividades-cg\\Atividade04\\src\\classes\\Triangle.py:161\u001b[0m, in \u001b[0;36mTriangle.hit\u001b[1;34m(self, ray, t_interval)\u001b[0m\n\u001b[0;32m    158\u001b[0m \u001b[38;5;28;01mif\u001b[39;00m normal\u001b[38;5;241m.\u001b[39mdot(c) \u001b[38;5;241m<\u001b[39m \u001b[38;5;241m0\u001b[39m:\n\u001b[0;32m    159\u001b[0m     \u001b[38;5;28;01mreturn\u001b[39;00m \u001b[38;5;28;01mFalse\u001b[39;00m, \u001b[38;5;28;01mNone\u001b[39;00m\n\u001b[1;32m--> 161\u001b[0m \u001b[38;5;28;01mif\u001b[39;00m \u001b[38;5;129;01mnot\u001b[39;00m \u001b[38;5;28mself\u001b[39m\u001b[38;5;241m.\u001b[39m__normals:\n\u001b[0;32m    162\u001b[0m     \u001b[38;5;28mprint\u001b[39m(\u001b[38;5;124m'\u001b[39m\u001b[38;5;124maaaaaaaaaaaaaaaaaaaaa\u001b[39m\u001b[38;5;124m'\u001b[39m)\n\u001b[0;32m    163\u001b[0m     \u001b[38;5;28mprint\u001b[39m(\u001b[38;5;124m'\u001b[39m\u001b[38;5;124maaaaaaaaaaaaaaaaaaaaa\u001b[39m\u001b[38;5;124m'\u001b[39m)\n",
      "\u001b[1;31mValueError\u001b[0m: The truth value of an array with more than one element is ambiguous. Use a.any() or a.all()"
     ]
    }
   ],
   "source": [
    "camera = Camera(image_width=200, samples_per_pixel=10, max_depth=10)\n",
    "\n",
    "world = HittableList()\n",
    "model = Model('../../../Atividade03/objs/Cube.obj')\n",
    "for face in model.faces:\n",
    "    world.add(face)\n",
    "    print(face.normals)\n",
    "world.add(Sphere(Point3([0, -100.5, -1]), 100))\n",
    "\n",
    "camera.render(world, \"../../imgs/cube-simple.png\")"
   ]
  }
 ],
 "metadata": {
  "kernelspec": {
   "display_name": "cg",
   "language": "python",
   "name": "python3"
  },
  "language_info": {
   "codemirror_mode": {
    "name": "ipython",
    "version": 3
   },
   "file_extension": ".py",
   "mimetype": "text/x-python",
   "name": "python",
   "nbconvert_exporter": "python",
   "pygments_lexer": "ipython3",
   "version": "3.8.18"
  }
 },
 "nbformat": 4,
 "nbformat_minor": 2
}
