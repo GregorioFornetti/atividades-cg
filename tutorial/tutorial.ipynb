{
 "cells": [
  {
   "cell_type": "markdown",
   "metadata": {},
   "source": [
    "# Tutorial [Raytracing em um final de semana](https://raytracing.github.io/books/RayTracingInOneWeekend.html#rays,asimplecamera,andbackground)"
   ]
  },
  {
   "cell_type": "markdown",
   "metadata": {},
   "source": [
    "Observações: \n",
    "\n",
    "- As **etapas 1 e 2** estão implementadas no diretório **Atividade 01**\n",
    "\n",
    "- A **etapa 3** está implementada em **Atividade 02**\n",
    "\n",
    "- A **etapa 4.1** está implementada em **Ray.py** no mesmo repositório"
   ]
  },
  {
   "cell_type": "markdown",
   "metadata": {},
   "source": [
    "## Importações"
   ]
  },
  {
   "cell_type": "code",
   "execution_count": 20,
   "metadata": {},
   "outputs": [],
   "source": [
    "import sys\n",
    "import os\n",
    "\n",
    "import numpy as np\n",
    "from tqdm import tqdm\n",
    "\n",
    "sys.path.append(os.path.abspath(os.path.join('..')))\n",
    "\n",
    "from Ray import Ray\n",
    "from Atividade02.src.vectorized.Vec3 import Vec3, Point3, Color\n",
    "from Atividade01.src.ImageIO import ImageWriter\n",
    "from Atividade01.src.Image import Image"
   ]
  },
  {
   "cell_type": "markdown",
   "metadata": {},
   "source": [
    "## 4.2 Sending Rays Into the scene "
   ]
  },
  {
   "cell_type": "code",
   "execution_count": 21,
   "metadata": {},
   "outputs": [],
   "source": [
    "aspect_ratio = 16.0 / 9.0\n",
    "image_width = 400\n",
    "\n",
    "image_height = int(image_width / aspect_ratio)\n",
    "if image_height < 1:\n",
    "    image_height = 1\n",
    "\n",
    "viewport_height = 2.0\n",
    "viewport_width = viewport_height * (image_width / image_height)\n",
    "# OBS: viewport_width: não está usando a variável aspect_ratio, pois a variável aspect_ratio é a proporção ideal da imagem, porém, arredondamos image_height para inteiro, podendo assim perder um pouco de precisão na proporção da imagem.\n",
    "\n",
    "# PAREI NA CAMERA..."
   ]
  },
  {
   "cell_type": "code",
   "execution_count": 22,
   "metadata": {},
   "outputs": [
    {
     "name": "stdout",
     "output_type": "stream",
     "text": [
      "Espaçamento horizontal dos pixels:\n",
      "0.008888888888888889 0.0 0.0\n",
      "Espaçamento vertical dos pixels:\n",
      "0.0 -0.008888888888888889 0.0\n"
     ]
    },
    {
     "name": "stderr",
     "output_type": "stream",
     "text": [
      "100%|██████████| 225/225 [00:14<00:00, 15.23it/s]\n"
     ]
    },
    {
     "data": {
      "image/png": "[encoded data removed]",
      "text/plain": [
       "<PIL.Image.Image image mode=RGB size=400x225>"
      ]
     },
     "metadata": {},
     "output_type": "display_data"
    }
   ],
   "source": [
    "def ray_color(ray: Ray):\n",
    "    unit_direction = ray.direction.unit_vector()\n",
    "    a = 0.5 * (unit_direction.y + 1.0)\n",
    "    return (1.0 - a) * Color([1.0, 1.0, 1.0]) + a * Color([0.5, 0.7, 1.0])\n",
    "\n",
    "def raytrace_pipeline(filename: str):\n",
    "    focal_length = 1.0\n",
    "    camera_center = Point3([0, 0, 0])\n",
    "\n",
    "    viewport_u = Vec3([viewport_width, 0, 0])\n",
    "    viewport_v = Vec3([0, -viewport_height, 0])\n",
    "\n",
    "    pixel_delta_u = viewport_u / image_width\n",
    "    pixel_delta_v = viewport_v / image_height\n",
    "\n",
    "    print('Espaçamento horizontal dos pixels:')\n",
    "    print(pixel_delta_u)\n",
    "    print('Espaçamento vertical dos pixels:')\n",
    "    print(pixel_delta_v)\n",
    "\n",
    "    # If pixels are spaced the same distance horizontally as they are vertically, the viewport that bounds them will have the same aspect ratio as the rendered image.\n",
    "    # Como estamos definindo o viewport para ter o mesmo aspect ratio da imagem (quantidade de pixels), então, os pixels terão o mesmo espaçamento horizontal e vertical.\n",
    "\n",
    "    viewport_upper_left = camera_center - Vec3([0, 0, focal_length]) - (viewport_u / 2) - (viewport_v / 2)\n",
    "    pixel00_loc = viewport_upper_left + 0.5 * (pixel_delta_u + pixel_delta_v)\n",
    "    # Precisa adicionar 0,5 da distancia de separação dos pixels. O canto esquerdo do viewport não é o mesmo que o ponto 0,0 da imagem. O viewport precisa ter uma borda de 0,5 espaçamento de pixel para cada lado.\n",
    "\n",
    "\n",
    "    # CRIAR MATRIZ\n",
    "    image = Image(image_width, image_height)\n",
    "    for j in tqdm(range(image_height)):\n",
    "        for i in range(image_width):\n",
    "            pixel_center = pixel00_loc + (i * pixel_delta_u) + (j * pixel_delta_v)\n",
    "            ray_direction = pixel_center - camera_center\n",
    "            ray = Ray(camera_center, ray_direction)\n",
    "\n",
    "            pixel_color = ray_color(ray)\n",
    "            image[j, i] = pixel_color\n",
    "\n",
    "    img_writer = ImageWriter(image)\n",
    "    img_writer.save(filename)\n",
    "    display(img_writer.image)\n",
    "\n",
    "raytrace_pipeline('1-degrade-raytrace.png')\n",
    "# A imagem sairá com degradê para os dois lados, pois está utilizando o vetor unidade, e não o próprio y diretamente\n",
    "# Logo, as outras coordenadas (x e z) influenciam no vetor unidade, fazendo com que o y não seja o unico vetor que influencia na cor."
   ]
  },
  {
   "cell_type": "markdown",
   "metadata": {},
   "source": [
    "## 5.2 Creating Our First Raytraced Image"
   ]
  },
  {
   "cell_type": "code",
   "execution_count": 23,
   "metadata": {},
   "outputs": [
    {
     "name": "stdout",
     "output_type": "stream",
     "text": [
      "Espaçamento horizontal dos pixels:\n",
      "0.008888888888888889 0.0 0.0\n",
      "Espaçamento vertical dos pixels:\n",
      "0.0 -0.008888888888888889 0.0\n"
     ]
    },
    {
     "name": "stderr",
     "output_type": "stream",
     "text": [
      "100%|██████████| 225/225 [00:13<00:00, 17.14it/s]\n"
     ]
    },
    {
     "data": {
      "image/png": "[encoded data removed]",
      "text/plain": [
       "<PIL.Image.Image image mode=RGB size=400x225>"
      ]
     },
     "metadata": {},
     "output_type": "display_data"
    }
   ],
   "source": [
    "def hit_sphere(center: Point3, radius: float, ray: Ray):\n",
    "    oc = ray.origin - center\n",
    "    a = ray.direction.dot(ray.direction)\n",
    "    b = 2 * oc.dot(ray.direction)\n",
    "    c = oc.dot(oc) - radius ** 2\n",
    "\n",
    "    discriminant = b ** 2 - 4 * a * c\n",
    "    return discriminant >= 0\n",
    "\n",
    "def ray_color(ray: Ray):\n",
    "    # Se acertar a esfera, pinta de vermelho\n",
    "    if hit_sphere(Point3([0, 0, -1]), 0.5, ray):\n",
    "        return Color([1, 0, 0])\n",
    "    \n",
    "    # Se não, pinta com o fundo (degradê)\n",
    "    unit_direction = ray.direction.unit_vector()\n",
    "    a = 0.5 * (unit_direction.y + 1.0)\n",
    "    return (1.0 - a) * Color([1.0, 1.0, 1.0]) + a * Color([0.5, 0.7, 1.0])\n",
    "\n",
    "raytrace_pipeline('2-first-sphere.png')"
   ]
  },
  {
   "cell_type": "markdown",
   "metadata": {},
   "source": [
    "## 6.1 Shading with Surface Normals"
   ]
  },
  {
   "cell_type": "code",
   "execution_count": 24,
   "metadata": {},
   "outputs": [
    {
     "name": "stdout",
     "output_type": "stream",
     "text": [
      "Espaçamento horizontal dos pixels:\n",
      "0.008888888888888889 0.0 0.0\n",
      "Espaçamento vertical dos pixels:\n",
      "0.0 -0.008888888888888889 0.0\n"
     ]
    },
    {
     "name": "stderr",
     "output_type": "stream",
     "text": [
      "  0%|          | 0/225 [00:00<?, ?it/s]"
     ]
    },
    {
     "name": "stderr",
     "output_type": "stream",
     "text": [
      "100%|██████████| 225/225 [00:11<00:00, 19.80it/s]\n"
     ]
    },
    {
     "data": {
      "image/png": "[encoded data removed]",
      "text/plain": [
       "<PIL.Image.Image image mode=RGB size=400x225>"
      ]
     },
     "metadata": {},
     "output_type": "display_data"
    }
   ],
   "source": [
    "def hit_sphere(center: Point3, radius: float, ray: Ray):\n",
    "    oc = ray.origin - center\n",
    "    a = ray.direction.dot(ray.direction)\n",
    "    b = 2 * oc.dot(ray.direction)\n",
    "    c = oc.dot(oc) - radius ** 2\n",
    "\n",
    "    discriminant = b ** 2 - 4 * a * c\n",
    "\n",
    "    if discriminant < 0:\n",
    "        return -1\n",
    "    else:\n",
    "        return (-b -np.sqrt(discriminant)) / (2.0 * a)\n",
    "\n",
    "def ray_color(ray: Ray):\n",
    "    # Se acertar a esfera, pinta de vermelho\n",
    "    t = hit_sphere(Point3([0, 0, -1]), 0.5, ray)\n",
    "    if t > 0:\n",
    "        normal = (ray.at(t) - Vec3([0, 0, -1])).unit_vector()\n",
    "        return 0.5 * Color([normal.x + 1, normal.y + 1, normal.z + 1])\n",
    "    \n",
    "    # Se não, pinta com o fundo (degradê)\n",
    "    unit_direction = ray.direction.unit_vector()\n",
    "    a = 0.5 * (unit_direction.y + 1.0)\n",
    "    return (1.0 - a) * Color([1.0, 1.0, 1.0]) + a * Color([0.5, 0.7, 1.0])\n",
    "\n",
    "raytrace_pipeline('3-sphere-with-normals.png')"
   ]
  }
 ],
 "metadata": {
  "kernelspec": {
   "display_name": "cg",
   "language": "python",
   "name": "python3"
  },
  "language_info": {
   "codemirror_mode": {
    "name": "ipython",
    "version": 3
   },
   "file_extension": ".py",
   "mimetype": "text/x-python",
   "name": "python",
   "nbconvert_exporter": "python",
   "pygments_lexer": "ipython3",
   "version": "3.8.18"
  }
 },
 "nbformat": 4,
 "nbformat_minor": 2
}
