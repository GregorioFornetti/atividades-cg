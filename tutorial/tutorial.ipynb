{
 "cells": [
  {
   "cell_type": "markdown",
   "metadata": {},
   "source": [
    "# Tutorial [Raytracing em um final de semana](https://raytracing.github.io/books/RayTracingInOneWeekend.html#rays,asimplecamera,andbackground)"
   ]
  },
  {
   "cell_type": "markdown",
   "metadata": {},
   "source": [
    "Observações: \n",
    "\n",
    "- As **etapas 1 e 2** estão implementadas no diretório **Atividade 01**\n",
    "\n",
    "- A **etapa 3** está implementada em **Atividade 02**\n",
    "\n",
    "- A **etapa 4.1** está implementada em **Ray.py** no mesmo repositório"
   ]
  },
  {
   "cell_type": "markdown",
   "metadata": {},
   "source": [
    "## Importações"
   ]
  },
  {
   "cell_type": "code",
   "execution_count": 1,
   "metadata": {},
   "outputs": [],
   "source": [
    "import sys\n",
    "import os\n",
    "\n",
    "import numpy as np\n",
    "from tqdm import tqdm\n",
    "\n",
    "sys.path.append(os.path.abspath(os.path.join('..')))\n",
    "\n",
    "from Ray import Ray\n",
    "from Atividade02.src.vectorized.Vec3 import Vec3, Point3, Color\n",
    "from Atividade01.src.ImageIO import ImageWriter\n",
    "from Atividade01.src.Image import Image"
   ]
  },
  {
   "cell_type": "markdown",
   "metadata": {},
   "source": [
    "## 4.2 Sending Rays Into the scene "
   ]
  },
  {
   "cell_type": "code",
   "execution_count": 2,
   "metadata": {},
   "outputs": [],
   "source": [
    "aspect_ratio = 16.0 / 9.0\n",
    "image_width = 400\n",
    "\n",
    "image_height = int(image_width / aspect_ratio)\n",
    "if image_height < 1:\n",
    "    image_height = 1\n",
    "\n",
    "viewport_height = 2.0\n",
    "viewport_width = viewport_height * (image_width / image_height)\n",
    "# OBS: viewport_width: não está usando a variável aspect_ratio, pois a variável aspect_ratio é a proporção ideal da imagem, porém, arredondamos image_height para inteiro, podendo assim perder um pouco de precisão na proporção da imagem.\n",
    "\n",
    "# PAREI NA CAMERA..."
   ]
  },
  {
   "cell_type": "code",
   "execution_count": 3,
   "metadata": {},
   "outputs": [
    {
     "name": "stderr",
     "output_type": "stream",
     "text": [
      "  0%|          | 0/225 [00:00<?, ?it/s]"
     ]
    },
    {
     "name": "stderr",
     "output_type": "stream",
     "text": [
      "100%|██████████| 225/225 [00:05<00:00, 38.78it/s]\n"
     ]
    }
   ],
   "source": [
    "def ray_color(ray: Ray):\n",
    "    unit_direction = ray.direction.unit_vector()\n",
    "    a = 0.5 * (unit_direction.y + 1.0)\n",
    "    return (1.0 - a) * Color([1.0, 1.0, 1.0]) + a * Color([0.5, 0.7, 1.0])\n",
    "\n",
    "focal_length = 1.0\n",
    "camera_center = Point3([0, 0, 0])\n",
    "\n",
    "viewport_u = Vec3([viewport_width, 0, 0])\n",
    "viewport_v = Vec3([0, -viewport_height, 0])\n",
    "\n",
    "pixel_delta_u = viewport_u / image_width\n",
    "pixel_delta_v = viewport_v / image_height\n",
    "\n",
    "viewport_upper_left = camera_center - Vec3([0, 0, focal_length]) - (viewport_u / 2) + (viewport_v / 2)\n",
    "pixel00_loc = viewport_upper_left + 0.5 * (pixel_delta_u + pixel_delta_v)\n",
    "\n",
    "# CRIAR MATRIZ\n",
    "image = Image(image_width, image_height)\n",
    "for j in tqdm(range(image_height)):\n",
    "    for i in range(image_width):\n",
    "        pixel_center = pixel00_loc + i * pixel_delta_u - j * pixel_delta_v\n",
    "        ray_direction = pixel_center - camera_center\n",
    "        ray = Ray(camera_center, ray_direction)\n",
    "\n",
    "        pixel_color = ray_color(ray)\n",
    "        image[j, i] = pixel_color\n",
    "\n",
    "img_writer = ImageWriter(image)\n",
    "img_writer.save('teste.png')"
   ]
  }
 ],
 "metadata": {
  "kernelspec": {
   "display_name": "cg",
   "language": "python",
   "name": "python3"
  },
  "language_info": {
   "codemirror_mode": {
    "name": "ipython",
    "version": 3
   },
   "file_extension": ".py",
   "mimetype": "text/x-python",
   "name": "python",
   "nbconvert_exporter": "python",
   "pygments_lexer": "ipython3",
   "version": "3.8.18"
  }
 },
 "nbformat": 4,
 "nbformat_minor": 2
}
