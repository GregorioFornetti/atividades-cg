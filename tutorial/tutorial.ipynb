{
 "cells": [
  {
   "cell_type": "markdown",
   "metadata": {},
   "source": [
    "# Tutorial [Raytracing em um final de semana](https://raytracing.github.io/books/RayTracingInOneWeekend.html#rays,asimplecamera,andbackground)"
   ]
  },
  {
   "cell_type": "markdown",
   "metadata": {},
   "source": [
    "Observações: \n",
    "\n",
    "- As **etapas 1 e 2** estão implementadas no diretório **Atividade 01**\n",
    "\n",
    "- A **etapa 3** está implementada em **Atividade 02**\n",
    "\n",
    "- A **etapa 4.1** está implementada em **Ray.py** no mesmo repositório"
   ]
  },
  {
   "cell_type": "markdown",
   "metadata": {},
   "source": [
    "## Importações"
   ]
  },
  {
   "cell_type": "code",
   "execution_count": 1,
   "metadata": {},
   "outputs": [],
   "source": [
    "import sys\n",
    "import os\n",
    "\n",
    "import numpy as np\n",
    "from tqdm import tqdm\n",
    "\n",
    "sys.path.append(os.path.abspath(os.path.join('..')))\n",
    "\n",
    "from Ray import Ray\n",
    "from Atividade02.src.vectorized.Vec3 import Vec3, Point3, Color\n",
    "from Atividade01.src.ImageIO import ImageWriter\n",
    "from Atividade01.src.Image import Image"
   ]
  },
  {
   "cell_type": "markdown",
   "metadata": {},
   "source": [
    "## 4.2 Sending Rays Into the scene "
   ]
  },
  {
   "cell_type": "code",
   "execution_count": 2,
   "metadata": {},
   "outputs": [],
   "source": [
    "aspect_ratio = 16.0 / 9.0\n",
    "image_width = 400\n",
    "\n",
    "image_height = int(image_width / aspect_ratio)\n",
    "if image_height < 1:\n",
    "    image_height = 1\n",
    "\n",
    "viewport_height = 2.0\n",
    "viewport_width = viewport_height * (image_width / image_height)\n",
    "# OBS: viewport_width: não está usando a variável aspect_ratio, pois a variável aspect_ratio é a proporção ideal da imagem, porém, arredondamos image_height para inteiro, podendo assim perder um pouco de precisão na proporção da imagem.\n"
   ]
  },
  {
   "cell_type": "code",
   "execution_count": 3,
   "metadata": {},
   "outputs": [
    {
     "name": "stderr",
     "output_type": "stream",
     "text": [
      "  0%|          | 0/225 [00:00<?, ?it/s]"
     ]
    },
    {
     "name": "stderr",
     "output_type": "stream",
     "text": [
      "100%|██████████| 225/225 [00:08<00:00, 25.51it/s]\n"
     ]
    },
    {
     "data": {
      "image/png": "[encoded data removed]",
      "text/plain": [
       "<PIL.Image.Image image mode=RGB size=400x225>"
      ]
     },
     "metadata": {},
     "output_type": "display_data"
    }
   ],
   "source": [
    "def ray_color(ray: Ray):\n",
    "    unit_direction = ray.direction.unit_vector()\n",
    "    a = 0.5 * (unit_direction.y + 1.0)\n",
    "    return (1.0 - a) * Color([1.0, 1.0, 1.0]) + a * Color([0.5, 0.7, 1.0])\n",
    "\n",
    "def raytrace_pipeline(filename: str):\n",
    "    aspect_ratio = 16.0 / 9.0\n",
    "    image_width = 400\n",
    "\n",
    "    image_height = int(image_width / aspect_ratio)\n",
    "    if image_height < 1:\n",
    "        image_height = 1\n",
    "\n",
    "    viewport_height = 2.0\n",
    "    viewport_width = viewport_height * (image_width / image_height)\n",
    "    \n",
    "    focal_length = 1.0\n",
    "    camera_center = Point3([0, 0, 0])\n",
    "\n",
    "    viewport_u = Vec3([viewport_width, 0, 0])\n",
    "    viewport_v = Vec3([0, -viewport_height, 0])\n",
    "\n",
    "    pixel_delta_u = viewport_u / image_width\n",
    "    pixel_delta_v = viewport_v / image_height\n",
    "\n",
    "    # If pixels are spaced the same distance horizontally as they are vertically, the viewport that bounds them will have the same aspect ratio as the rendered image.\n",
    "    # Como estamos definindo o viewport para ter o mesmo aspect ratio da imagem (quantidade de pixels), então, os pixels terão o mesmo espaçamento horizontal e vertical.\n",
    "\n",
    "    viewport_upper_left = camera_center - Vec3([0, 0, focal_length]) - (viewport_u / 2) - (viewport_v / 2)\n",
    "    pixel00_loc = viewport_upper_left + 0.5 * (pixel_delta_u + pixel_delta_v)\n",
    "    # Precisa adicionar 0,5 da distancia de separação dos pixels. O canto esquerdo do viewport não é o mesmo que o ponto 0,0 da imagem. O viewport precisa ter uma borda de 0,5 espaçamento de pixel para cada lado.\n",
    "\n",
    "\n",
    "    # CRIAR MATRIZ\n",
    "    image = Image(image_width, image_height)\n",
    "    for j in tqdm(range(image_height)):\n",
    "        for i in range(image_width):\n",
    "            pixel_center = pixel00_loc + (i * pixel_delta_u) + (j * pixel_delta_v)\n",
    "            ray_direction = pixel_center - camera_center\n",
    "            ray = Ray(camera_center, ray_direction)\n",
    "\n",
    "            pixel_color = ray_color(ray)\n",
    "            image[j, i] = pixel_color\n",
    "\n",
    "    img_writer = ImageWriter(image)\n",
    "    img_writer.save(filename)\n",
    "    display(img_writer.image)\n",
    "\n",
    "raytrace_pipeline('1-degrade-raytrace.png')\n",
    "# A imagem sairá com degradê para os dois lados, pois está utilizando o vetor unidade, e não o próprio y diretamente\n",
    "# Logo, as outras coordenadas (x e z) influenciam no vetor unidade, fazendo com que o y não seja o unico vetor que influencia na cor."
   ]
  },
  {
   "cell_type": "markdown",
   "metadata": {},
   "source": [
    "## 5.2 Creating Our First Raytraced Image"
   ]
  },
  {
   "cell_type": "code",
   "execution_count": 4,
   "metadata": {},
   "outputs": [
    {
     "name": "stderr",
     "output_type": "stream",
     "text": [
      "100%|██████████| 225/225 [00:10<00:00, 22.04it/s]\n"
     ]
    },
    {
     "data": {
      "image/png": "[encoded data removed]",
      "text/plain": [
       "<PIL.Image.Image image mode=RGB size=400x225>"
      ]
     },
     "metadata": {},
     "output_type": "display_data"
    }
   ],
   "source": [
    "def hit_sphere(center: Point3, radius: float, ray: Ray):\n",
    "    oc = ray.origin - center\n",
    "    a = ray.direction.dot(ray.direction)\n",
    "    b = 2 * oc.dot(ray.direction)\n",
    "    c = oc.dot(oc) - radius ** 2\n",
    "\n",
    "    discriminant = b ** 2 - 4 * a * c\n",
    "    return discriminant >= 0\n",
    "\n",
    "def ray_color(ray: Ray):\n",
    "    # Se acertar a esfera, pinta de vermelho\n",
    "    if hit_sphere(Point3([0, 0, -1]), 0.5, ray):\n",
    "        return Color([1, 0, 0])\n",
    "    \n",
    "    # Se não, pinta com o fundo (degradê)\n",
    "    unit_direction = ray.direction.unit_vector()\n",
    "    a = 0.5 * (unit_direction.y + 1.0)\n",
    "    return (1.0 - a) * Color([1.0, 1.0, 1.0]) + a * Color([0.5, 0.7, 1.0])\n",
    "\n",
    "raytrace_pipeline('2-first-sphere.png')"
   ]
  },
  {
   "cell_type": "markdown",
   "metadata": {},
   "source": [
    "## 6.1 Shading with Surface Normals"
   ]
  },
  {
   "cell_type": "code",
   "execution_count": 5,
   "metadata": {},
   "outputs": [
    {
     "name": "stderr",
     "output_type": "stream",
     "text": [
      "100%|██████████| 225/225 [00:10<00:00, 21.03it/s]\n"
     ]
    },
    {
     "data": {
      "image/png": "[encoded data removed]",
      "text/plain": [
       "<PIL.Image.Image image mode=RGB size=400x225>"
      ]
     },
     "metadata": {},
     "output_type": "display_data"
    }
   ],
   "source": [
    "def hit_sphere(center: Point3, radius: float, ray: Ray):\n",
    "    oc = ray.origin - center\n",
    "    a = ray.direction.dot(ray.direction)\n",
    "    b = 2 * oc.dot(ray.direction)\n",
    "    c = oc.dot(oc) - radius ** 2\n",
    "\n",
    "    discriminant = b ** 2 - 4 * a * c\n",
    "\n",
    "    if discriminant < 0:\n",
    "        return -1\n",
    "    else:\n",
    "        return (-b -np.sqrt(discriminant)) / (2.0 * a)\n",
    "\n",
    "def ray_color(ray: Ray):\n",
    "    # Se acertar a esfera, pinta de vermelho\n",
    "    t = hit_sphere(Point3([0, 0, -1]), 0.5, ray)\n",
    "    if t > 0:\n",
    "        normal = (ray.at(t) - Vec3([0, 0, -1])).unit_vector()\n",
    "        return 0.5 * Color([normal.x + 1, normal.y + 1, normal.z + 1])\n",
    "    \n",
    "    # Se não, pinta com o fundo (degradê)\n",
    "    unit_direction = ray.direction.unit_vector()\n",
    "    a = 0.5 * (unit_direction.y + 1.0)\n",
    "    return (1.0 - a) * Color([1.0, 1.0, 1.0]) + a * Color([0.5, 0.7, 1.0])\n",
    "\n",
    "raytrace_pipeline('3-sphere-with-normals.png')"
   ]
  },
  {
   "cell_type": "markdown",
   "metadata": {},
   "source": [
    "## 6.2 Simplifying the Ray-Sphere Intersection Code"
   ]
  },
  {
   "cell_type": "code",
   "execution_count": 6,
   "metadata": {},
   "outputs": [
    {
     "name": "stderr",
     "output_type": "stream",
     "text": [
      "100%|██████████| 225/225 [00:10<00:00, 20.73it/s]\n"
     ]
    },
    {
     "data": {
      "image/png": "[encoded data removed]",
      "text/plain": [
       "<PIL.Image.Image image mode=RGB size=400x225>"
      ]
     },
     "metadata": {},
     "output_type": "display_data"
    }
   ],
   "source": [
    "def hit_sphere(center: Point3, radius: float, ray: Ray):\n",
    "    oc = ray.origin - center\n",
    "    a = ray.direction.squared_length()\n",
    "    half_b = oc.dot(ray.direction)\n",
    "    c = oc.dot(oc) - radius ** 2\n",
    "\n",
    "    discriminant = half_b ** 2 - a * c\n",
    "\n",
    "    if discriminant < 0:\n",
    "        return -1\n",
    "    else:\n",
    "        return (-half_b -np.sqrt(discriminant)) / a\n",
    "\n",
    "raytrace_pipeline('4-simplified-sphere.png')"
   ]
  },
  {
   "cell_type": "markdown",
   "metadata": {},
   "source": [
    "## 6.3 An Abstraction for Hittable Objects"
   ]
  },
  {
   "cell_type": "code",
   "execution_count": 7,
   "metadata": {},
   "outputs": [],
   "source": [
    "\n",
    "class HitRecord:\n",
    "\n",
    "    def __init__(self, p: Point3, normal: Vec3, t: float):\n",
    "        self.p = p\n",
    "        self.normal = normal\n",
    "        self.t = t\n",
    "\n",
    "\n",
    "class Hittable:\n",
    "\n",
    "    def hit(self, ray: Ray, t_min: float, t_max: float) -> \"tuple[bool, HitRecord]\":\n",
    "        raise NotImplementedError('Esse método método deve ser implementado na classe filha.')\n",
    "\n",
    "\n",
    "class Sphere(Hittable):\n",
    "\n",
    "    def __init__(self, center: Point3, radius: float):\n",
    "        self.__center = center\n",
    "        self.__radius = radius\n",
    "    \n",
    "    @property\n",
    "    def center(self):\n",
    "        return self.__center\n",
    "    \n",
    "    @property\n",
    "    def radius(self):\n",
    "        return self.__radius\n",
    "\n",
    "    def hit(self, ray: Ray, t_min: float, t_max: float) -> \"tuple[bool, HitRecord]\":\n",
    "        oc = ray.origin - self.center\n",
    "        a = ray.direction.squared_length()\n",
    "        half_b = oc.dot(ray.direction)\n",
    "        c = oc.dot(oc) - self.radius ** 2\n",
    "\n",
    "        discriminant = half_b ** 2 - a * c\n",
    "\n",
    "        if discriminant < 0:\n",
    "            return False, None\n",
    "        else:\n",
    "            root = np.sqrt(discriminant)\n",
    "            t = (-half_b - root) / a\n",
    "            if t < t_min or t > t_max:\n",
    "                t = (-half_b + root) / a\n",
    "                if t < t_min or t > t_max:\n",
    "                    return False, None\n",
    "            \n",
    "            p = ray.at(t)\n",
    "            normal = (p - self.center) / self.radius\n",
    "            return True, HitRecord(p, normal, t)"
   ]
  },
  {
   "cell_type": "markdown",
   "metadata": {},
   "source": [
    "## 6.4 Front Faces Versus Back Faces"
   ]
  },
  {
   "cell_type": "code",
   "execution_count": 8,
   "metadata": {},
   "outputs": [],
   "source": [
    "class HitRecord:\n",
    "\n",
    "    def __init__(self, p: Point3, normal: Vec3, t: float, ray: Ray):\n",
    "        self.p = p\n",
    "        self.t = t\n",
    "        self.set_normal(normal, ray)\n",
    "    \n",
    "    def set_normal(self, outward_normal: Vec3, ray: Ray):\n",
    "        self.front_face = ray.direction.dot(outward_normal) < 0\n",
    "        self.normal = outward_normal if self.front_face else -outward_normal\n",
    "\n",
    "\n",
    "class Sphere(Hittable):\n",
    "\n",
    "    def __init__(self, center: Point3, radius: float):\n",
    "        self.__center = center\n",
    "        self.__radius = radius\n",
    "    \n",
    "    @property\n",
    "    def center(self):\n",
    "        return self.__center\n",
    "    \n",
    "    @property\n",
    "    def radius(self):\n",
    "        return self.__radius\n",
    "\n",
    "    def hit(self, ray: Ray, t_min: float, t_max: float) -> \"tuple[bool, HitRecord]\":\n",
    "        oc = ray.origin - self.center\n",
    "        a = ray.direction.squared_length()\n",
    "        half_b = oc.dot(ray.direction)\n",
    "        c = oc.dot(oc) - self.radius ** 2\n",
    "\n",
    "        discriminant = half_b ** 2 - a * c\n",
    "\n",
    "        if discriminant < 0:\n",
    "            return False, None\n",
    "        else:\n",
    "            root = np.sqrt(discriminant)\n",
    "            t = (-half_b - root) / a\n",
    "            if t < t_min or t > t_max:\n",
    "                t = (-half_b + root) / a\n",
    "                if t < t_min or t > t_max:\n",
    "                    return False, None\n",
    "            \n",
    "            p = ray.at(t)\n",
    "            normal = (p - self.center) / self.radius\n",
    "            return True, HitRecord(p, normal, t, ray)"
   ]
  },
  {
   "cell_type": "markdown",
   "metadata": {},
   "source": [
    "## 6.5 A List of Hittable Objects"
   ]
  },
  {
   "cell_type": "code",
   "execution_count": 9,
   "metadata": {},
   "outputs": [],
   "source": [
    "class HittableList:\n",
    "    \n",
    "    def __init__(self):\n",
    "        self.objects: list[Hittable] = []\n",
    "    \n",
    "    def add(self, obj: Hittable):\n",
    "        self.objects.append(obj)\n",
    "    \n",
    "    def clear(self):\n",
    "        self.objects.clear()\n",
    "    \n",
    "    def hit(self, ray: Ray, t_min: float, t_max: float) -> \"tuple[bool, HitRecord]\":\n",
    "        hit_anything = False\n",
    "        closest_so_far = t_max\n",
    "        for obj in self.objects:\n",
    "            hit, rec = obj.hit(ray, t_min, closest_so_far)\n",
    "            if hit:\n",
    "                hit_anything = True\n",
    "                closest_so_far = rec.t\n",
    "                hit_record = rec\n",
    "        \n",
    "        if hit_anything:\n",
    "            return True, hit_record\n",
    "        else:\n",
    "            return False, None"
   ]
  },
  {
   "cell_type": "markdown",
   "metadata": {},
   "source": [
    "## 6.7 Common Constants and Utility Functions"
   ]
  },
  {
   "cell_type": "code",
   "execution_count": 10,
   "metadata": {},
   "outputs": [],
   "source": [
    "infinity = np.inf\n",
    "pi = np.pi\n",
    "\n",
    "def degrees_to_radians(degrees: float):\n",
    "    return degrees * pi / 180.0"
   ]
  },
  {
   "cell_type": "code",
   "execution_count": 11,
   "metadata": {},
   "outputs": [
    {
     "name": "stderr",
     "output_type": "stream",
     "text": [
      "100%|██████████| 225/225 [00:12<00:00, 18.31it/s]\n"
     ]
    },
    {
     "data": {
      "image/png": "[encoded data removed]",
      "text/plain": [
       "<PIL.Image.Image image mode=RGB size=400x225>"
      ]
     },
     "metadata": {},
     "output_type": "display_data"
    }
   ],
   "source": [
    "def ray_color(ray: Ray, world: HittableList) -> Color:\n",
    "    hit, rec = world.hit(ray, 0, infinity)\n",
    "    if hit:\n",
    "        return Color((0.5 * (rec.normal + Color([1, 1, 1]))).vec)\n",
    "    \n",
    "    unit_direction = ray.direction.unit_vector()\n",
    "    t = 0.5 * (unit_direction.y + 1.0)\n",
    "    return (1.0 - t) * Color([1.0, 1.0, 1.0]) + t * Color([0.5, 0.7, 1.0])\n",
    "\n",
    "def raytrace_pipeline(filename: str):\n",
    "    aspect_ratio = 16.0 / 9.0\n",
    "    image_width = 400\n",
    "\n",
    "    image_height = int(image_width / aspect_ratio)\n",
    "    if image_height < 1:\n",
    "        image_height = 1\n",
    "\n",
    "    world = HittableList()\n",
    "\n",
    "    world.add(Sphere(Point3([0, 0, -1]), 0.5))\n",
    "    world.add(Sphere(Point3([0, -100.5, -1]), 100))\n",
    "\n",
    "\n",
    "    viewport_height = 2.0\n",
    "    viewport_width = viewport_height * (image_width / image_height)\n",
    "    focal_length = 1.0\n",
    "    camera_center = Point3([0, 0, 0])\n",
    "\n",
    "    viewport_u = Vec3([viewport_width, 0, 0])\n",
    "    viewport_v = Vec3([0, -viewport_height, 0])\n",
    "\n",
    "    pixel_delta_u = viewport_u / image_width\n",
    "    pixel_delta_v = viewport_v / image_height\n",
    "\n",
    "    # If pixels are spaced the same distance horizontally as they are vertically, the viewport that bounds them will have the same aspect ratio as the rendered image.\n",
    "    # Como estamos definindo o viewport para ter o mesmo aspect ratio da imagem (quantidade de pixels), então, os pixels terão o mesmo espaçamento horizontal e vertical.\n",
    "\n",
    "    viewport_upper_left = camera_center - Vec3([0, 0, focal_length]) - (viewport_u / 2) - (viewport_v / 2)\n",
    "    pixel00_loc = viewport_upper_left + 0.5 * (pixel_delta_u + pixel_delta_v)\n",
    "    # Precisa adicionar 0,5 da distancia de separação dos pixels. O canto esquerdo do viewport não é o mesmo que o ponto 0,0 da imagem. O viewport precisa ter uma borda de 0,5 espaçamento de pixel para cada lado.\n",
    "\n",
    "\n",
    "    # CRIAR MATRIZ\n",
    "    image = Image(image_width, image_height)\n",
    "    for j in tqdm(range(image_height)):\n",
    "        for i in range(image_width):\n",
    "            pixel_center = pixel00_loc + (i * pixel_delta_u) + (j * pixel_delta_v)\n",
    "            ray_direction = pixel_center - camera_center\n",
    "            ray = Ray(camera_center, ray_direction)\n",
    "\n",
    "            pixel_color = ray_color(ray, world)\n",
    "            image[j, i] = pixel_color\n",
    "\n",
    "    img_writer = ImageWriter(image)\n",
    "    img_writer.save(filename)\n",
    "    display(img_writer.image)\n",
    "\n",
    "raytrace_pipeline('5-first-world.png')\n",
    "# A imagem sairá com degradê para os dois lados, pois está utilizando o vetor unidade, e não o próprio y diretamente\n",
    "# Logo, as outras coordenadas (x e z) influenciam no vetor unidade, fazendo com que o y não seja o unico vetor que influencia na cor."
   ]
  },
  {
   "cell_type": "markdown",
   "metadata": {},
   "source": [
    "## 6.8 An Interval Class"
   ]
  },
  {
   "cell_type": "code",
   "execution_count": 12,
   "metadata": {},
   "outputs": [],
   "source": [
    "class Interval:\n",
    "\n",
    "    def __init__(self, min: float, max: float):\n",
    "        self.min = min\n",
    "        self.max = max\n",
    "\n",
    "    def __contains__(self, value: float):\n",
    "        return self.min <= value <= self.max\n",
    "    \n",
    "    def surrounds(self, value: float):\n",
    "        return self.min <= value <= self.max"
   ]
  },
  {
   "cell_type": "code",
   "execution_count": 13,
   "metadata": {},
   "outputs": [],
   "source": [
    "class Hittable:\n",
    "\n",
    "    def hit(self, ray: Ray, t_interval: Interval) -> \"tuple[bool, HitRecord]\":\n",
    "        raise NotImplementedError('Esse método método deve ser implementado na classe filha.')"
   ]
  },
  {
   "cell_type": "code",
   "execution_count": 14,
   "metadata": {},
   "outputs": [],
   "source": [
    "class Sphere(Hittable):\n",
    "\n",
    "    def __init__(self, center: Point3, radius: float):\n",
    "        self.__center = center\n",
    "        self.__radius = radius\n",
    "    \n",
    "    @property\n",
    "    def center(self):\n",
    "        return self.__center\n",
    "    \n",
    "    @property\n",
    "    def radius(self):\n",
    "        return self.__radius\n",
    "\n",
    "    def hit(self, ray: Ray, t_interval: Interval) -> \"tuple[bool, HitRecord]\":\n",
    "        oc = ray.origin - self.center\n",
    "        a = ray.direction.squared_length()\n",
    "        half_b = oc.dot(ray.direction)\n",
    "        c = oc.dot(oc) - self.radius ** 2\n",
    "\n",
    "        discriminant = half_b ** 2 - a * c\n",
    "\n",
    "        if discriminant < 0:\n",
    "            return False, None\n",
    "        else:\n",
    "            root = np.sqrt(discriminant)\n",
    "            t = (-half_b - root) / a\n",
    "            if t not in t_interval:\n",
    "                t = (-half_b + root) / a\n",
    "                if t not in t_interval:\n",
    "                    return False, None\n",
    "            \n",
    "            p = ray.at(t)\n",
    "            normal = (p - self.center) / self.radius\n",
    "            return True, HitRecord(p, normal, t, ray)"
   ]
  },
  {
   "cell_type": "code",
   "execution_count": 15,
   "metadata": {},
   "outputs": [],
   "source": [
    "class HittableList:\n",
    "    \n",
    "    def __init__(self):\n",
    "        self.objects: list[Hittable] = []\n",
    "    \n",
    "    def add(self, obj: Hittable):\n",
    "        self.objects.append(obj)\n",
    "    \n",
    "    def clear(self):\n",
    "        self.objects.clear()\n",
    "    \n",
    "    def hit(self, ray: Ray, interval: Interval) -> \"tuple[bool, HitRecord]\":\n",
    "        hit_anything = False\n",
    "        closest_so_far = interval.max\n",
    "        for obj in self.objects:\n",
    "            hit, rec = obj.hit(ray, Interval(interval.min, closest_so_far))\n",
    "            if hit:\n",
    "                hit_anything = True\n",
    "                closest_so_far = rec.t\n",
    "                hit_record = rec\n",
    "        \n",
    "        if hit_anything:\n",
    "            return True, hit_record\n",
    "        else:\n",
    "            return False, None"
   ]
  },
  {
   "cell_type": "code",
   "execution_count": 16,
   "metadata": {},
   "outputs": [
    {
     "name": "stderr",
     "output_type": "stream",
     "text": [
      "100%|██████████| 225/225 [00:13<00:00, 16.35it/s]\n"
     ]
    },
    {
     "data": {
      "image/png": "[encoded data removed]",
      "text/plain": [
       "<PIL.Image.Image image mode=RGB size=400x225>"
      ]
     },
     "metadata": {},
     "output_type": "display_data"
    }
   ],
   "source": [
    "def ray_color(ray: Ray, world: HittableList) -> Color:\n",
    "    hit, rec = world.hit(ray, Interval(0, infinity))\n",
    "    if hit:\n",
    "        return Color((0.5 * (rec.normal + Color([1, 1, 1]))).vec)\n",
    "    \n",
    "    unit_direction = ray.direction.unit_vector()\n",
    "    t = 0.5 * (unit_direction.y + 1.0)\n",
    "    return (1.0 - t) * Color([1.0, 1.0, 1.0]) + t * Color([0.5, 0.7, 1.0])\n",
    "\n",
    "raytrace_pipeline('6-first-world-with-interval.png')"
   ]
  },
  {
   "cell_type": "markdown",
   "metadata": {},
   "source": [
    "## 7 Moving Camera Code Into Its Own Class"
   ]
  },
  {
   "cell_type": "code",
   "execution_count": 17,
   "metadata": {},
   "outputs": [],
   "source": [
    "class Camera:\n",
    "\n",
    "    def initialize(self):\n",
    "        self.aspect_ratio = 16.0 / 9.0\n",
    "        self.image_width = 400\n",
    "\n",
    "        self.image_height = int(image_width / aspect_ratio)\n",
    "        if self.image_height < 1:\n",
    "            self.image_height = 1\n",
    "\n",
    "        self.viewport_height = 2.0\n",
    "        self.viewport_width = self.viewport_height * (image_width / image_height)\n",
    "        self.focal_length = 1.0\n",
    "        self.camera_center = Point3([0, 0, 0])\n",
    "\n",
    "        self.viewport_u = Vec3([self.viewport_width, 0, 0])\n",
    "        self.viewport_v = Vec3([0, -self.viewport_height, 0])\n",
    "\n",
    "        self.pixel_delta_u = self.viewport_u / self.image_width\n",
    "        self.pixel_delta_v = self.viewport_v / self.image_height\n",
    "\n",
    "        # If pixels are spaced the same distance horizontally as they are vertically, the viewport that bounds them will have the same aspect ratio as the rendered image.\n",
    "        # Como estamos definindo o viewport para ter o mesmo aspect ratio da imagem (quantidade de pixels), então, os pixels terão o mesmo espaçamento horizontal e vertical.\n",
    "\n",
    "        self.viewport_upper_left = self.camera_center - Vec3([0, 0, self.focal_length]) - (self.viewport_u / 2) - (self.viewport_v / 2)\n",
    "        self.pixel00_loc = self.viewport_upper_left + 0.5 * (self.pixel_delta_u + self.pixel_delta_v)\n",
    "        # Precisa adicionar 0,5 da distancia de separação dos pixels. O canto esquerdo do viewport não é o mesmo que o ponto 0,0 da imagem. O viewport precisa ter uma borda de 0,5 espaçamento de pixel para cada lado.\n",
    "\n",
    "    def ray_color(self, ray: Ray, world: HittableList) -> Color:\n",
    "        hit, rec = world.hit(ray, Interval(0, infinity))\n",
    "        if hit:\n",
    "            return Color((0.5 * (rec.normal + Color([1, 1, 1]))).vec)\n",
    "        \n",
    "        unit_direction = ray.direction.unit_vector()\n",
    "        t = 0.5 * (unit_direction.y + 1.0)\n",
    "        return (1.0 - t) * Color([1.0, 1.0, 1.0]) + t * Color([0.5, 0.7, 1.0])\n",
    "    \n",
    "    def render(self, world: HittableList, filename: str) -> Image:\n",
    "        self.initialize()\n",
    "\n",
    "        image = Image(self.image_width, self.image_height)\n",
    "        for j in tqdm(range(self.image_height)):\n",
    "            for i in range(self.image_width):\n",
    "                self.pixel_center = self.pixel00_loc + (i * self.pixel_delta_u) + (j * self.pixel_delta_v)\n",
    "                self.ray_direction = self.pixel_center - self.camera_center\n",
    "                ray = Ray(self.camera_center, self.ray_direction)\n",
    "\n",
    "                pixel_color = ray_color(ray, world)\n",
    "                image[j, i] = pixel_color\n",
    "\n",
    "        img_writer = ImageWriter(image)\n",
    "        img_writer.save(filename)\n",
    "        display(img_writer.image)\n",
    "        \n",
    "        return image"
   ]
  },
  {
   "cell_type": "code",
   "execution_count": 18,
   "metadata": {},
   "outputs": [
    {
     "name": "stderr",
     "output_type": "stream",
     "text": [
      "100%|██████████| 225/225 [00:14<00:00, 15.99it/s]\n"
     ]
    },
    {
     "data": {
      "image/png": "[encoded data removed]",
      "text/plain": [
       "<PIL.Image.Image image mode=RGB size=400x225>"
      ]
     },
     "metadata": {},
     "output_type": "display_data"
    },
    {
     "data": {
      "text/plain": [
       "<Atividade01.src.Image.Image at 0x1ca3e805e80>"
      ]
     },
     "execution_count": 18,
     "metadata": {},
     "output_type": "execute_result"
    }
   ],
   "source": [
    "camera = Camera()\n",
    "\n",
    "world = HittableList()\n",
    "world.add(Sphere(Point3([0, 0, -1]), 0.5))\n",
    "world.add(Sphere(Point3([0, -100.5, -1]), 100))\n",
    "\n",
    "camera.render(world, '7-camera-class.png')"
   ]
  }
 ],
 "metadata": {
  "kernelspec": {
   "display_name": "cg",
   "language": "python",
   "name": "python3"
  },
  "language_info": {
   "codemirror_mode": {
    "name": "ipython",
    "version": 3
   },
   "file_extension": ".py",
   "mimetype": "text/x-python",
   "name": "python",
   "nbconvert_exporter": "python",
   "pygments_lexer": "ipython3",
   "version": "3.8.18"
  }
 },
 "nbformat": 4,
 "nbformat_minor": 2
}
