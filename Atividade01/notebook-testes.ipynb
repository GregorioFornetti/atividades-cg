{
 "cells": [
  {
   "cell_type": "markdown",
   "metadata": {},
   "source": [
    "# Testes do módulo ImageIO"
   ]
  },
  {
   "cell_type": "markdown",
   "metadata": {},
   "source": [
    "## Importações"
   ]
  },
  {
   "cell_type": "code",
   "execution_count": 5,
   "metadata": {},
   "outputs": [],
   "source": [
    "from ImageIO import ImageWriter, ImageReader\n",
    "import numpy as np"
   ]
  },
  {
   "cell_type": "markdown",
   "metadata": {},
   "source": [
    "## Testando escrita"
   ]
  },
  {
   "cell_type": "markdown",
   "metadata": {},
   "source": [
    "### Salvando e visualizando imagem degradê"
   ]
  },
  {
   "cell_type": "code",
   "execution_count": 6,
   "metadata": {},
   "outputs": [
    {
     "data": {
      "image/png": "[encoded data removed]",
      "text/plain": [
       "<PIL.Image.Image image mode=RGB size=256x256>"
      ]
     },
     "metadata": {},
     "output_type": "display_data"
    }
   ],
   "source": [
    "\n",
    "# Tamanho da imagem\n",
    "img_width = 256\n",
    "img_height = 256\n",
    "\n",
    "# Cores do degradê (RGB)\n",
    "top_color = np.array([0, 0, 255])\n",
    "bottom_color = np.array([255, 0, 0])\n",
    "\n",
    "img_matrix = np.zeros((img_height, img_width, 3), dtype=np.uint8)\n",
    "\n",
    "for i in range(img_height):\n",
    "    # A imagem começa de cima para baixo\n",
    "    # O percentual da cor de cima vai diminundo conforme o decorrer das iterações, enquanto a cor de baixo vai aumentando\n",
    "    img_matrix[i] += (bottom_color * (i / img_height)).astype(np.uint8)\n",
    "    img_matrix[i] += (top_color * (1 - i / img_height)).astype(np.uint8)\n",
    "\n",
    "img_output = ImageWriter(img_matrix)\n",
    "\n",
    "display(img_output.image)\n",
    "\n",
    "img_output.save(\"images/degrade.png\")"
   ]
  },
  {
   "cell_type": "markdown",
   "metadata": {},
   "source": [
    "### Salvando e visualizando imagem circulo"
   ]
  },
  {
   "cell_type": "code",
   "execution_count": 7,
   "metadata": {},
   "outputs": [
    {
     "data": {
      "image/png": "[encoded data removed]",
      "text/plain": [
       "<PIL.Image.Image image mode=RGB size=256x256>"
      ]
     },
     "metadata": {},
     "output_type": "display_data"
    }
   ],
   "source": [
    "# Baseado em: https://stackoverflow.com/questions/17163636/filled-circle-in-matrix2d-array\n",
    "\n",
    "# Tamanho da imagem\n",
    "img_width = 256\n",
    "img_height = 256\n",
    "\n",
    "# Configurações do círculo\n",
    "circle_center_x = img_width // 2\n",
    "circle_center_y = img_height // 2\n",
    "radius = 100\n",
    "circle_color = np.array([255, 0, 0])\n",
    "\n",
    "img_matrix = np.zeros((img_height, img_width, 3), dtype=np.uint8)\n",
    "\n",
    "for i in range(img_height):\n",
    "    for j in range(img_width):\n",
    "        if (j - circle_center_x) ** 2 + (i - circle_center_y) ** 2 <= radius ** 2:\n",
    "            img_matrix[i][j] = circle_color\n",
    "\n",
    "\n",
    "img_output = ImageWriter(img_matrix)\n",
    "\n",
    "display(img_output.image)\n",
    "\n",
    "img_output.save(\"images/circulo.png\")"
   ]
  },
  {
   "cell_type": "markdown",
   "metadata": {},
   "source": [
    "### Salvando e visualizando imagem de quadrado"
   ]
  },
  {
   "cell_type": "code",
   "execution_count": 8,
   "metadata": {},
   "outputs": [
    {
     "data": {
      "image/png": "[encoded data removed]",
      "text/plain": [
       "<PIL.Image.Image image mode=RGB size=256x256>"
      ]
     },
     "metadata": {},
     "output_type": "display_data"
    }
   ],
   "source": [
    "# Tamanho da imagem\n",
    "img_width = 256\n",
    "img_height = 256\n",
    "\n",
    "# Configurações do quadrado\n",
    "square_center_x = img_width // 2\n",
    "square_center_y = img_height // 2\n",
    "square_size = 200\n",
    "square_color = np.array([255, 0, 0])\n",
    "\n",
    "img_matrix = np.zeros((img_height, img_width, 3), dtype=np.uint8)\n",
    "\n",
    "for i in range(img_height):\n",
    "    for j in range(img_width):\n",
    "        if abs(j - square_center_x) <= square_size // 2 and abs(i - square_center_y) <= square_size // 2:\n",
    "            img_matrix[i][j] = square_color\n",
    "\n",
    "img_output = ImageWriter(img_matrix)\n",
    "\n",
    "display(img_output.image)\n",
    "\n",
    "img_output.save(\"images/quadrado.png\")"
   ]
  },
  {
   "cell_type": "markdown",
   "metadata": {},
   "source": [
    "## Testando leitura"
   ]
  },
  {
   "cell_type": "markdown",
   "metadata": {},
   "source": [
    "### Testando leitura imagem degradê"
   ]
  },
  {
   "cell_type": "code",
   "execution_count": 10,
   "metadata": {},
   "outputs": [
    {
     "data": {
      "image/png": "[encoded data removed]",
      "text/plain": [
       "<PIL.PngImagePlugin.PngImageFile image mode=RGB size=256x256>"
      ]
     },
     "metadata": {},
     "output_type": "display_data"
    }
   ],
   "source": [
    "img_reader = ImageReader()\n",
    "\n",
    "image = img_reader.read_as_pil_image(\"images/degrade.png\")\n",
    "\n",
    "display(image)"
   ]
  },
  {
   "cell_type": "markdown",
   "metadata": {},
   "source": [
    "### Testando leitura imagem circulo"
   ]
  },
  {
   "cell_type": "code",
   "execution_count": 11,
   "metadata": {},
   "outputs": [
    {
     "data": {
      "image/png": "[encoded data removed]",
      "text/plain": [
       "<PIL.PngImagePlugin.PngImageFile image mode=RGB size=256x256>"
      ]
     },
     "metadata": {},
     "output_type": "display_data"
    }
   ],
   "source": [
    "image = img_reader.read_as_pil_image(\"images/circulo.png\")\n",
    "\n",
    "display(image)"
   ]
  },
  {
   "cell_type": "markdown",
   "metadata": {},
   "source": [
    "### Testando leitura imagem quadrado"
   ]
  },
  {
   "cell_type": "code",
   "execution_count": 12,
   "metadata": {},
   "outputs": [
    {
     "data": {
      "image/png": "[encoded data removed]",
      "text/plain": [
       "<PIL.PngImagePlugin.PngImageFile image mode=RGB size=256x256>"
      ]
     },
     "metadata": {},
     "output_type": "display_data"
    }
   ],
   "source": [
    "image = img_reader.read_as_pil_image(\"images/quadrado.png\")\n",
    "\n",
    "display(image)"
   ]
  }
 ],
 "metadata": {
  "kernelspec": {
   "display_name": "cg",
   "language": "python",
   "name": "python3"
  },
  "language_info": {
   "codemirror_mode": {
    "name": "ipython",
    "version": 3
   },
   "file_extension": ".py",
   "mimetype": "text/x-python",
   "name": "python",
   "nbconvert_exporter": "python",
   "pygments_lexer": "ipython3",
   "version": "3.8.18"
  }
 },
 "nbformat": 4,
 "nbformat_minor": 2
}
