{
 "cells": [
  {
   "cell_type": "markdown",
   "metadata": {},
   "source": [
    "# Testes da classe ImageOutput"
   ]
  },
  {
   "cell_type": "markdown",
   "metadata": {},
   "source": [
    "## Importações"
   ]
  },
  {
   "cell_type": "code",
   "execution_count": 2,
   "metadata": {},
   "outputs": [],
   "source": [
    "from ImageOutput import ImageOutput\n",
    "import numpy as np"
   ]
  },
  {
   "cell_type": "markdown",
   "metadata": {},
   "source": [
    "## Salvando e visualizando imagem degradê"
   ]
  },
  {
   "cell_type": "code",
   "execution_count": 15,
   "metadata": {},
   "outputs": [
    {
     "name": "stdout",
     "output_type": "stream",
     "text": [
      "[[[  0   0 255]\n",
      "  [  0   0 255]\n",
      "  [  0   0 255]\n",
      "  ...\n",
      "  [  0   0 255]\n",
      "  [  0   0 255]\n",
      "  [  0   0 255]]\n",
      "\n",
      " [[  0   0 254]\n",
      "  [  0   0 254]\n",
      "  [  0   0 254]\n",
      "  ...\n",
      "  [  0   0 254]\n",
      "  [  0   0 254]\n",
      "  [  0   0 254]]\n",
      "\n",
      " [[  0   0 254]\n",
      "  [  0   0 254]\n",
      "  [  0   0 254]\n",
      "  ...\n",
      "  [  0   0 254]\n",
      "  [  0   0 254]\n",
      "  [  0   0 254]]\n",
      "\n",
      " ...\n",
      "\n",
      " [[254   0   0]\n",
      "  [254   0   0]\n",
      "  [254   0   0]\n",
      "  ...\n",
      "  [254   0   0]\n",
      "  [254   0   0]\n",
      "  [254   0   0]]\n",
      "\n",
      " [[254   0   0]\n",
      "  [254   0   0]\n",
      "  [254   0   0]\n",
      "  ...\n",
      "  [254   0   0]\n",
      "  [254   0   0]\n",
      "  [254   0   0]]\n",
      "\n",
      " [[254   0   0]\n",
      "  [254   0   0]\n",
      "  [254   0   0]\n",
      "  ...\n",
      "  [254   0   0]\n",
      "  [254   0   0]\n",
      "  [254   0   0]]]\n"
     ]
    }
   ],
   "source": [
    "img_width = 256\n",
    "img_height = 1000\n",
    "\n",
    "top_color = np.array([0, 0, 255])\n",
    "bottom_color = np.array([255, 0, 0])\n",
    "\n",
    "img_matrix = np.zeros((img_height, img_width, 3), dtype=np.uint8)\n",
    "\n",
    "for i in range(img_height):\n",
    "    img_matrix[i] += (bottom_color * (i / img_height)).astype(np.uint8)\n",
    "    img_matrix[i] += (top_color * (1 - i / img_height)).astype(np.uint8)\n",
    "\n",
    "print(img_matrix)\n",
    "img_output = ImageOutput(img_matrix)\n",
    "\n",
    "img_output.display()"
   ]
  },
  {
   "cell_type": "markdown",
   "metadata": {},
   "source": [
    "## Salvando e visualizando imagem circulo"
   ]
  },
  {
   "cell_type": "markdown",
   "metadata": {},
   "source": [
    "## Salvando e visualizando imagem de quadrado"
   ]
  }
 ],
 "metadata": {
  "kernelspec": {
   "display_name": "cg",
   "language": "python",
   "name": "python3"
  },
  "language_info": {
   "codemirror_mode": {
    "name": "ipython",
    "version": 3
   },
   "file_extension": ".py",
   "mimetype": "text/x-python",
   "name": "python",
   "nbconvert_exporter": "python",
   "pygments_lexer": "ipython3",
   "version": "3.8.18"
  }
 },
 "nbformat": 4,
 "nbformat_minor": 2
}
