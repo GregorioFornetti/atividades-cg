{
 "cells": [
  {
   "cell_type": "markdown",
   "metadata": {},
   "source": [
    "# Testes da classe ImageOutput"
   ]
  },
  {
   "cell_type": "markdown",
   "metadata": {},
   "source": [
    "## Importações"
   ]
  },
  {
   "cell_type": "code",
   "execution_count": 2,
   "metadata": {},
   "outputs": [],
   "source": [
    "from ImageOutput import ImageOutput\n",
    "import numpy as np"
   ]
  },
  {
   "cell_type": "markdown",
   "metadata": {},
   "source": [
    "## Salvando e visualizando imagem degradê"
   ]
  },
  {
   "cell_type": "code",
   "execution_count": 16,
   "metadata": {},
   "outputs": [],
   "source": [
    "# Configurações da imagem de degradê gerada\n",
    "\n",
    "# Tamanho da imagem\n",
    "img_width = 256\n",
    "img_height = 256\n",
    "\n",
    "# Cores do degradê (RGB)\n",
    "top_color = np.array([0, 0, 255])\n",
    "bottom_color = np.array([255, 0, 0])\n",
    "\n",
    "img_matrix = np.zeros((img_height, img_width, 3), dtype=np.uint8)\n",
    "\n",
    "for i in range(img_height):\n",
    "    # A imagem começa de cima para baixo\n",
    "    # O percentual da cor de cima vai diminundo conforme o decorrer das iterações, enquanto a cor de baixo vai aumentando\n",
    "    img_matrix[i] += (bottom_color * (i / img_height)).astype(np.uint8)\n",
    "    img_matrix[i] += (top_color * (1 - i / img_height)).astype(np.uint8)\n",
    "\n",
    "img_output = ImageOutput(img_matrix)\n",
    "\n",
    "img_output.display()\n",
    "\n",
    "img_output.save(\"testes.png\")"
   ]
  },
  {
   "cell_type": "markdown",
   "metadata": {},
   "source": [
    "## Salvando e visualizando imagem circulo"
   ]
  },
  {
   "cell_type": "markdown",
   "metadata": {},
   "source": [
    "## Salvando e visualizando imagem de quadrado"
   ]
  }
 ],
 "metadata": {
  "kernelspec": {
   "display_name": "cg",
   "language": "python",
   "name": "python3"
  },
  "language_info": {
   "codemirror_mode": {
    "name": "ipython",
    "version": 3
   },
   "file_extension": ".py",
   "mimetype": "text/x-python",
   "name": "python",
   "nbconvert_exporter": "python",
   "pygments_lexer": "ipython3",
   "version": "3.8.18"
  }
 },
 "nbformat": 4,
 "nbformat_minor": 2
}
